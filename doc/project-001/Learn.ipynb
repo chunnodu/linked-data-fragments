{
 "cells": [
  {
   "cell_type": "markdown",
   "metadata": {},
   "source": [
    "# Learn Notebook"
   ]
  },
  {
   "cell_type": "code",
   "execution_count": 11,
   "metadata": {},
   "outputs": [
    {
     "name": "stdout",
     "output_type": "stream",
     "text": [
      "2018-05-25 14:43:15.630370 win32 nt D:\\2018 D:\\2018\\linked-data-fragments\n"
     ]
    }
   ],
   "source": [
    "# Setup env\n",
    "import datetime, rdflib, pdb, sys, hashlib, requests\n",
    "import os, sys, rdflib, uuid\n",
    "from bplustree import BPlusTree, StrSerializer\n",
    "NOTEBOOK_DIR = os.path.split(os.path.abspath(os.curdir))[0]\n",
    "PROJECT_DIR = os.path.split(NOTEBOOK_DIR)[0]\n",
    "BASE_DIR = os.path.split(PROJECT_DIR)[0]\n",
    "CACHE_DIR = os.path.join(PROJECT_DIR, \"cache\")\n",
    "sys.path.append(CACHE_DIR)\n",
    "import btree\n",
    "print(datetime.datetime.now(), sys.platform, os.path.os.name, BASE_DIR, PROJECT_DIR)"
   ]
  },
  {
   "cell_type": "code",
   "execution_count": null,
   "metadata": {},
   "outputs": [],
   "source": [
    "%matplotlib inline\n",
    "\n",
    "import matplotlib\n",
    "import numpy as np\n",
    "import matplotlib.pyplot as plt"
   ]
  },
  {
   "cell_type": "markdown",
   "metadata": {},
   "source": [
    "## Odds and Ends\n",
    "\n",
    "###  When submiting a HTTP GET request to the Linked Data Fragments Server, do not use raw URL\n",
    "Encoded the raw URL value using `urllib.parse.urlencode` method. "
   ]
  },
  {
   "cell_type": "code",
   "execution_count": 18,
   "metadata": {},
   "outputs": [
    {
     "name": "stdout",
     "output_type": "stream",
     "text": [
      "http://www.w3.org/1999/02/22-rdf-syntax-ns#type\n",
      "http://localhost:7000/?p=http://www.w3.org/1999/02/22-rdf-syntax-ns#type 200\n",
      "{'subject': 'http://localhost:7000/4779d612-605d-11e8-a669-001fc69cf6df', 'predicate': 'void:triples', 'object': 0}\n",
      "http://localhost:7000/p=http%3A%2F%2Fwww.w3.org%2F1999%2F02%2F22-rdf-syntax-ns%23type\n"
     ]
    }
   ],
   "source": [
    "print(rdflib.RDF.type)\n",
    "uncoded_url = \"http://localhost:7000/?p={}\".format(rdflib.RDF.type)\n",
    "result = requests.get(uncoded_url)\n",
    "print(uncoded_url, result.status_code)\n",
    "print(result.json().get(\"metadata\"))\n",
    "import urllib.parse\n",
    "print(\"http://localhost:7000/{}\".format(urllib.parse.urlencode({\"p\": str(rdflib.RDF.type)})))"
   ]
  },
  {
   "cell_type": "code",
   "execution_count": 13,
   "metadata": {},
   "outputs": [
    {
     "name": "stdout",
     "output_type": "stream",
     "text": [
      "{'subject': 'http://localhost:7000/a8fa9100-605c-11e8-81ee-001fc69cf6df', 'predicate': 'void:triples', 'object': 52}\n"
     ]
    }
   ],
   "source": [
    "result = requests.get(\"http://localhost:7000/?p=http%3A%2F%2Fwww.w3.org%2F1999%2F02%2F22-rdf-syntax-ns%23type\")\n",
    "print(result.json().get(\"metadata\"))"
   ]
  },
  {
   "cell_type": "markdown",
   "metadata": {},
   "source": [
    "So what I think is happening is that Falcon is stripping off characters the final **#** in the url when the unencoded URL is being used. "
   ]
  },
  {
   "cell_type": "code",
   "execution_count": null,
   "metadata": {},
   "outputs": [],
   "source": []
  }
 ],
 "metadata": {
  "kernelspec": {
   "display_name": "Python 3",
   "language": "python",
   "name": "python3"
  },
  "language_info": {
   "codemirror_mode": {
    "name": "ipython",
    "version": 3
   },
   "file_extension": ".py",
   "mimetype": "text/x-python",
   "name": "python",
   "nbconvert_exporter": "python",
   "pygments_lexer": "ipython3",
   "version": "3.6.4"
  }
 },
 "nbformat": 4,
 "nbformat_minor": 2
}
