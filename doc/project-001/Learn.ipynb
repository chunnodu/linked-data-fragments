{
 "cells": [
  {
   "cell_type": "markdown",
   "metadata": {},
   "source": [
    "# Learn Notebook"
   ]
  },
  {
   "cell_type": "code",
   "execution_count": 1,
   "metadata": {},
   "outputs": [
    {
     "name": "stdout",
     "output_type": "stream",
     "text": [
      "2018-05-26 18:30:49.396311 linux posix /home/jpnelson/2018 /home/jpnelson/2018/linked-data-fragments\n"
     ]
    }
   ],
   "source": [
    "# Setup env\n",
    "import datetime, rdflib, pdb, sys, hashlib, requests\n",
    "import os, sys, rdflib, uuid\n",
    "from bplustree import BPlusTree, StrSerializer\n",
    "NOTEBOOK_DIR = os.path.split(os.path.abspath(os.curdir))[0]\n",
    "PROJECT_DIR = os.path.split(NOTEBOOK_DIR)[0]\n",
    "BASE_DIR = os.path.split(PROJECT_DIR)[0]\n",
    "CACHE_DIR = os.path.join(PROJECT_DIR, \"cache\")\n",
    "sys.path.append(CACHE_DIR)\n",
    "import btree\n",
    "print(datetime.datetime.now(), sys.platform, os.path.os.name, BASE_DIR, PROJECT_DIR)"
   ]
  },
  {
   "cell_type": "code",
   "execution_count": 3,
   "metadata": {},
   "outputs": [],
   "source": [
    "%matplotlib inline\n",
    "\n",
    "import matplotlib\n",
    "import numpy as np\n",
    "import matplotlib.pyplot as plt\n",
    "import pandas as pd"
   ]
  },
  {
   "cell_type": "code",
   "execution_count": 4,
   "metadata": {},
   "outputs": [],
   "source": [
    "btree_data = [{\"date\": \"2018-05-25T15:40:33.180260\",\n",
    "               \"size\": 5075210240,\n",
    "               \"triples\": 2721170},\n",
    "              {\"date\": \"2018-05-24T15:48:21.248258\",\n",
    "               \"size\": 67432448,\n",
    "               \"triples\": 28122},\n",
    "              {\"date\": \"2018-05-25T12:21:50.000\",\n",
    "               \"size\": 28122,\n",
    "               \"triples\": 170\n",
    "              }]\n"
   ]
  },
  {
   "cell_type": "code",
   "execution_count": 23,
   "metadata": {},
   "outputs": [
    {
     "name": "stdout",
     "output_type": "stream",
     "text": [
      "[5075210240, 67432448, 28122] [2721170, 28122, 170]\n"
     ]
    },
    {
     "data": {
      "image/png": "[encoded data removed]",
      "text/plain": [
       "<matplotlib.figure.Figure at 0x7fb424719710>"
      ]
     },
     "metadata": {},
     "output_type": "display_data"
    }
   ],
   "source": [
    "sizes, triples = [],[]\n",
    "ratio = []\n",
    "for row in btree_data:\n",
    "    sizes.append(row.get('size'))\n",
    "    triples.append(row.get('triples'))\n",
    "    ratio.append(row.get('triples') / row.get('size'))\n",
    "print(sizes,triples)\n",
    "plt.plot( sizes, triples,'bo')\n",
    "plt.title(\"BTtree File size vs. RDF Triples\")\n",
    "plt.ylabel(\"Kilobytes\")\n",
    "plt.xlabel(\"RDF Triples\")\n",
    "plt.show()"
   ]
  },
  {
   "cell_type": "markdown",
   "metadata": {},
   "source": [
    "## Discussion\n",
    "Being very careful to not make too many conclusions (with a sample size of 3!) The current graph line looks like a linear relationship between the number of triples and the size of the file.\n",
    "\n",
    "From this preliminary testing, we can make some predications about between the number of triples and the size of the resulting file given an arbitary set of RDF triples. Even though btree size 5GB is large for the 2.7 million triples used in the Plains2Peaks DP.LA service hub pilot, we still need to test the performance of different btree files. "
   ]
  },
  {
   "cell_type": "code",
   "execution_count": null,
   "metadata": {},
   "outputs": [],
   "source": []
  },
  {
   "cell_type": "markdown",
   "metadata": {},
   "source": [
    "## Odds and Ends\n",
    "\n",
    "###  When submiting a HTTP GET request to the Linked Data Fragments Server, do not use raw URL\n",
    "Encoded the raw URL value using `urllib.parse.urlencode` method. "
   ]
  },
  {
   "cell_type": "code",
   "execution_count": 18,
   "metadata": {},
   "outputs": [
    {
     "name": "stdout",
     "output_type": "stream",
     "text": [
      "http://www.w3.org/1999/02/22-rdf-syntax-ns#type\n",
      "http://localhost:7000/?p=http://www.w3.org/1999/02/22-rdf-syntax-ns#type 200\n",
      "{'subject': 'http://localhost:7000/4779d612-605d-11e8-a669-001fc69cf6df', 'predicate': 'void:triples', 'object': 0}\n",
      "http://localhost:7000/p=http%3A%2F%2Fwww.w3.org%2F1999%2F02%2F22-rdf-syntax-ns%23type\n"
     ]
    }
   ],
   "source": [
    "print(rdflib.RDF.type)\n",
    "uncoded_url = \"http://localhost:7000/?p={}\".format(rdflib.RDF.type)\n",
    "result = requests.get(uncoded_url)\n",
    "print(uncoded_url, result.status_code)\n",
    "print(result.json().get(\"metadata\"))\n",
    "import urllib.parse\n",
    "print(\"http://localhost:7000/{}\".format(urllib.parse.urlencode({\"p\": str(rdflib.RDF.type)})))"
   ]
  },
  {
   "cell_type": "code",
   "execution_count": 13,
   "metadata": {},
   "outputs": [
    {
     "name": "stdout",
     "output_type": "stream",
     "text": [
      "{'subject': 'http://localhost:7000/a8fa9100-605c-11e8-81ee-001fc69cf6df', 'predicate': 'void:triples', 'object': 52}\n"
     ]
    }
   ],
   "source": [
    "result = requests.get(\"http://localhost:7000/?p=http%3A%2F%2Fwww.w3.org%2F1999%2F02%2F22-rdf-syntax-ns%23type\")\n",
    "print(result.json().get(\"metadata\"))"
   ]
  },
  {
   "cell_type": "markdown",
   "metadata": {},
   "source": [
    "So what I think is happening is that Falcon is stripping off characters the final **#** in the url when the unencoded URL is being used. "
   ]
  },
  {
   "cell_type": "code",
   "execution_count": null,
   "metadata": {},
   "outputs": [],
   "source": []
  }
 ],
 "metadata": {
  "kernelspec": {
   "display_name": "Python 3",
   "language": "python",
   "name": "python3"
  },
  "language_info": {
   "codemirror_mode": {
    "name": "ipython",
    "version": 3
   },
   "file_extension": ".py",
   "mimetype": "text/x-python",
   "name": "python",
   "nbconvert_exporter": "python",
   "pygments_lexer": "ipython3",
   "version": "3.6.4"
  }
 },
 "nbformat": 4,
 "nbformat_minor": 2
}
