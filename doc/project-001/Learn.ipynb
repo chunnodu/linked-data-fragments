{
 "cells": [
  {
   "cell_type": "markdown",
   "metadata": {},
   "source": [
    "# Learn Notebook"
   ]
  },
  {
   "cell_type": "code",
   "execution_count": 1,
   "metadata": {},
   "outputs": [
    {
     "name": "stdout",
     "output_type": "stream",
     "text": [
      "win32 nt D:\\2018 D:\\2018\\linked-data-fragments\n"
     ]
    }
   ],
   "source": [
    "# Setup env\n",
    "import datetime, rdflib, pdb, hashlib, requests\n",
    "import os, sys, rdflib, uuid, tempfile\n",
    "from bplustree import BPlusTree, StrSerializer\n",
    "PROJECT_DIR = os.path.split(os.path.abspath(os.curdir))[0]\n",
    "sys.path.append(PROJECT_DIR)\n",
    "BASE_DIR = os.path.split(PROJECT_DIR)[0]\n",
    "CACHE_DIR = os.path.join(PROJECT_DIR, \"cache\")\n",
    "sys.path.append(CACHE_DIR)\n",
    "import btree\n",
    "print(sys.platform, os.path.os.name, BASE_DIR, PROJECT_DIR)"
   ]
  },
  {
   "cell_type": "code",
   "execution_count": 3,
   "metadata": {},
   "outputs": [],
   "source": [
    "%matplotlib inline\n",
    "\n",
    "import matplotlib\n",
    "import numpy as np\n",
    "import matplotlib.pyplot as plt"
   ]
  },
  {
   "cell_type": "code",
   "execution_count": null,
   "metadata": {},
   "outputs": [],
   "source": []
  }
 ],
 "metadata": {
  "kernelspec": {
   "display_name": "Python 3",
   "language": "python",
   "name": "python3"
  },
  "language_info": {
   "codemirror_mode": {
    "name": "ipython",
    "version": 3
   },
   "file_extension": ".py",
   "mimetype": "text/x-python",
   "name": "python",
   "nbconvert_exporter": "python",
   "pygments_lexer": "ipython3",
   "version": "3.6.4"
  }
 },
 "nbformat": 4,
 "nbformat_minor": 2
}
