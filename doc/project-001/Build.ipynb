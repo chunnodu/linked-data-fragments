{
 "cells": [
  {
   "cell_type": "markdown",
   "metadata": {},
   "source": [
    "# Build Notebook\n",
    "Build Notebook for [Project 1](https://github.com/jermnelson/linked-data-fragments/projects/1)"
   ]
  },
  {
   "cell_type": "code",
   "execution_count": 1,
   "metadata": {},
   "outputs": [
    {
     "name": "stdout",
     "output_type": "stream",
     "text": [
      "2018-05-28 08:19:31.122533 linux posix /home/jpnelson/2018 /home/jpnelson/2018/linked-data-fragments\n"
     ]
    }
   ],
   "source": [
    "# Setup env\n",
    "import datetime, rdflib, pdb, sys, hashlib, requests\n",
    "import os, sys, rdflib, uuid\n",
    "from bplustree import BPlusTree, StrSerializer\n",
    "NOTEBOOK_DIR = os.path.split(os.path.abspath(os.curdir))[0]\n",
    "PROJECT_DIR = os.path.split(NOTEBOOK_DIR)[0]\n",
    "BASE_DIR = os.path.split(PROJECT_DIR)[0]\n",
    "CACHE_DIR = os.path.join(PROJECT_DIR, \"cache\")\n",
    "sys.path.append(CACHE_DIR)\n",
    "import btree\n",
    "print(datetime.datetime.now(), sys.platform, os.path.os.name, BASE_DIR, PROJECT_DIR)"
   ]
  },
  {
   "cell_type": "markdown",
   "metadata": {},
   "source": [
    "## Example One: Colorado College Knowledge Graphs\n",
    "\n",
    "To run this example, **BASE_DIR** should be the root directory where you have cloned the following git repositories:\n",
    "\n",
    "1.  `git clone https://github.com/jermnelson/linked-data-fragments.git`\n",
    "1.  `git clone https://github.com/Tutt-Library/tiger-catalog.git`\n",
    "1.  `git clone https://github.com/Tutt-Library/cc-scholarship-graph.git`\n"
   ]
  },
  {
   "cell_type": "code",
   "execution_count": null,
   "metadata": {},
   "outputs": [],
   "source": [
    "\n",
    "# Creating Colorado College Knowledge Graph\n",
    "CC = rdflib.Graph()\n",
    "def load_cc_scholarship():\n",
    "\tfor path in [\"/tiger-catalog/KnowledgeGraph/colorado-college.ttl\",\n",
    "\t\t \"/tiger-catalog/KnowledgeGraph/cc-people.ttl\",\n",
    "\t\t \"/tiger-catalog/KnowledgeGraph/cc-2016-2017.ttl\",\n",
    "\t\t \"/tiger-catalog/KnowledgeGraph/cc-2017-2018.ttl\",\n",
    "\t\t \"/cc-scholarship-graph/data/cc-research-statements.ttl\",\n",
    "\t\t \"/cc-scholarship-graph/data/cc-fast-subjects.ttl\",\n",
    "\t\t \"/cc-scholarship-graph/data/creative-works.ttl\"]:\n",
    "\t\tfull_path = \"{}{}\".format(BASE_DIR, path)        \n",
    "\t\tCC.parse(full_path, format='turtle')\n",
    "load_cc_scholarship()\n",
    "print(\"Colorado College Number of Triples: {:,}\".format(len(CC)))"
   ]
  },
  {
   "cell_type": "markdown",
   "metadata": {},
   "source": [
    "### Demo of BTree Linked Data Fragments \n",
    "Take subject, predicate, object triples from RDF Graph and create sha1 hashes of all Blank Nodes and IRI subjects and store in BTree. "
   ]
  },
  {
   "cell_type": "code",
   "execution_count": null,
   "metadata": {},
   "outputs": [],
   "source": [
    "CC_TREE = BPlusTree(\"{}/tmp/cc-tree.db\".format(PROJECT_DIR),\n",
    "                   serializer=StrSerializer(),\n",
    "                   order=25,\n",
    "                   key_size=124)"
   ]
  },
  {
   "cell_type": "code",
   "execution_count": null,
   "metadata": {},
   "outputs": [],
   "source": [
    "def build_strategy_one():\n",
    "    start = datetime.datetime.utcnow()\n",
    "    print(\"Starting loading Colorado College's {:,} triples at {} \".format(\n",
    "        len(CC),\n",
    "        start.isoformat()))\n",
    "    counter = 0\n",
    "    for subj, pred, obj in CC:\n",
    "        subj_sha1 = btree.add_entity(CC_TREE, subj)\n",
    "        pred_sha1 = btree.add_entity(CC_TREE, pred)\n",
    "        obj_sha1 = btree.add_entity(CC_TREE, obj)\n",
    "        btree.add_patterns(CC_TREE, subj_sha1, pred_sha1, obj_sha1)\n",
    "        if not counter%100 and counter > 0:\n",
    "            print(\".\", end=\"\")\n",
    "        if not counter%1000:\n",
    "            print(\"{:,}\".format(counter), end=\"\")\n",
    "            CC_TREE.checkpoint()\n",
    "        counter += 1\n",
    "\n",
    "    end = datetime.datetime.utcnow()\n",
    "    CC_TREE.close()\n",
    "    print(\"Finished loading at {}, total time {:,} min for {:,} triples\".format(\n",
    "        end,\n",
    "        (end-start).seconds / 60.0,\n",
    "        len(CC)))"
   ]
  },
  {
   "cell_type": "code",
   "execution_count": null,
   "metadata": {},
   "outputs": [],
   "source": [
    "build_strategy_one()"
   ]
  },
  {
   "cell_type": "code",
   "execution_count": null,
   "metadata": {},
   "outputs": [],
   "source": [
    "entity_tree_path = os.path.join(PROJECT_DIR, \"tmp/cc-entity-tree.db\")\n",
    "ENTITY_TREE = BPlusTree(\n",
    "    entity_tree_path,\n",
    "    order=10,\n",
    "    serializer=StrSerializer(),\n",
    "    key_size=40)\n",
    "triples_tree_path = os.path.join(PROJECT_DIR, \"tmp/cc-triples-tree.db\")\n"
   ]
  },
  {
   "cell_type": "code",
   "execution_count": null,
   "metadata": {},
   "outputs": [],
   "source": [
    "TRIPLES_TREE = BPlusTree(\n",
    "    triples_tree_path,\n",
    "    order=15,\n",
    "    serializer=StrSerializer(),\n",
    "    key_size=124\n",
    ")\n",
    "def build_test_two(graph):\n",
    "    start = datetime.datetime.utcnow()\n",
    "    authority = 'http://catalog.coloradocollege.edu/'\n",
    "    count = 0\n",
    "    print(\"Starting Build Test Two at {} for {:,} Triples in Graph\".format(\n",
    "        start,\n",
    "        len(graph)))\n",
    "    for subj, pred, obj in graph:\n",
    "        if isinstance(subj, rdflib.BNode):\n",
    "            subj = subj.skolemize(authority=authority)\n",
    "        if isinstance(obj, rdflib.BNode):\n",
    "            obj = obj.skolemize(authority=authority) \n",
    "        subject_sha1 = btree.add_entity(ENTITY_TREE, subj)\n",
    "        predicate_sha1 = btree.add_entity(ENTITY_TREE, pred)\n",
    "        object_sha1 = btree.add_entity(ENTITY_TREE, obj)\n",
    "        btree.add_patterns(TRIPLES_TREE, \n",
    "                           subject_sha1,\n",
    "                           predicate_sha1,\n",
    "                           object_sha1)\n",
    "        if not count%100 and count > 0:\n",
    "            print(\".\", end=\"\")\n",
    "        if not count%1000 and count > 0:\n",
    "            ENTITY_TREE.checkpoint()\n",
    "            TRIPLES_TREE.checkpoint()\n",
    "            print(\"{:,}\".format(count), end=\"\")\n",
    "        count += 1\n",
    "    end = datetime.datetime.utcnow()\n",
    "    ENTITY_TREE.checkpoint()\n",
    "    TRIPLES_TREE.checkpoint()    \n",
    "    entity_db_size = os.path.getsize(entity_tree_path)\n",
    "    triples_db_size = os.path.getsize(triples_tree_path)\n",
    "    print(\"\"\"Finished at {}, total time {:,} minutes for {:,} triples.\n",
    "        {:,} Entities in Btree, {:,} bytes for {}\n",
    "        {:,} Triples in Btree, {:,} bytes for {}\n",
    "    \"\"\".format(\n",
    "        end,\n",
    "        (end-start).seconds / 60.0,\n",
    "        len(graph),\n",
    "        len(ENTITY_TREE),\n",
    "        entity_db_size,\n",
    "        entity_tree_path,\n",
    "        len(TRIPLES_TREE),\n",
    "        triples_db_size,\n",
    "        triples_tree_path))\n",
    "    "
   ]
  },
  {
   "cell_type": "code",
   "execution_count": null,
   "metadata": {},
   "outputs": [],
   "source": [
    "build_test_two(CC)"
   ]
  },
  {
   "cell_type": "code",
   "execution_count": null,
   "metadata": {},
   "outputs": [],
   "source": [
    "TRIPLES_TREE = BPlusTree(\n",
    "    triples_tree_path,\n",
    "    order=15,\n",
    "    serializer=StrSerializer(),\n",
    "    key_size=32\n",
    ")\n",
    "def build_test_three(graph):\n",
    "    start = datetime.datetime.utcnow()\n",
    "    authority = 'http://catalog.coloradocollege.edu/'\n",
    "    count = 0\n",
    "    print(\"Starting Build Test Three at {} for {:,} Triples in Graph\".format(\n",
    "        start,\n",
    "        len(graph)))\n",
    "    for subj, pred, obj in graph:\n",
    "        if isinstance(subj, rdflib.BNode):\n",
    "            subj = subj.skolemize(authority=authority)\n",
    "        if isinstance(obj, rdflib.BNode):\n",
    "            obj = obj.skolemize(authority=authority)\n",
    "        subject_sha1 = btree.add_entity(ENTITY_TREE, subj, 10)\n",
    "        predicate_sha1 = btree.add_entity(ENTITY_TREE, pred, 10)\n",
    "        object_sha1 = btree.add_entity(ENTITY_TREE, obj, 10)\n",
    "        btree.add_patterns(TRIPLES_TREE, \n",
    "                           subject_sha1,\n",
    "                           predicate_sha1,\n",
    "                           object_sha1,\n",
    "                           10)\n",
    "        if not count%100 and count > 0:\n",
    "            print(\".\", end=\"\")\n",
    "        if not count%1000 and count > 0:\n",
    "            ENTITY_TREE.checkpoint()\n",
    "            TRIPLES_TREE.checkpoint()\n",
    "            print(\"{:,}\".format(count), end=\"\")\n",
    "        count += 1\n",
    "    end = datetime.datetime.utcnow()\n",
    "    ENTITY_TREE.checkpoint()\n",
    "    TRIPLES_TREE.checkpoint()    \n",
    "    entity_db_size = os.path.getsize(entity_tree_path)\n",
    "    triples_db_size = os.path.getsize(triples_tree_path)\n",
    "    print(\"\"\"Finished at {}, total time {:,} minutes for {:,} triples.\n",
    "        {:,} Entities in Btree, {:,} bytes for {}\n",
    "        {:,} Triples in Btree, {:,} bytes for {}\n",
    "    \"\"\".format(\n",
    "        end,\n",
    "        (end-start).seconds / 60.0,\n",
    "        len(graph),\n",
    "        len(ENTITY_TREE),\n",
    "        entity_db_size,\n",
    "        entity_tree_path,\n",
    "        len(TRIPLES_TREE),\n",
    "        triples_db_size,\n",
    "        triples_tree_path))"
   ]
  },
  {
   "cell_type": "code",
   "execution_count": null,
   "metadata": {},
   "outputs": [],
   "source": [
    "build_test_three(CC)"
   ]
  },
  {
   "cell_type": "markdown",
   "metadata": {},
   "source": [
    "## Example Two: Local BTree Strategies"
   ]
  },
  {
   "cell_type": "code",
   "execution_count": 2,
   "metadata": {},
   "outputs": [],
   "source": [
    "from bplustree import BPlusTree, StrSerializer\n",
    "TEST_TREE = BPlusTree(\"/home/jpnelson/2018/linked-data-fragments/tmp/test-tree.db\",\n",
    "                   serializer=StrSerializer(),\n",
    "                   order=10,\n",
    "                   key_size=124)"
   ]
  },
  {
   "cell_type": "code",
   "execution_count": 3,
   "metadata": {},
   "outputs": [],
   "source": [
    "prefix = \"\"\"@prefix bf: <http://id.loc.gov/ontologies/bibframe/> .\n",
    "@prefix prov: <http://www.w3.org/ns/prov#> .\n",
    "@prefix rdf: <http://www.w3.org/1999/02/22-rdf-syntax-ns#> .\n",
    "@prefix rdfs: <http://www.w3.org/2000/01/rdf-schema#> .\n",
    "@prefix relators: <http://id.loc.gov/vocabulary/relators/> .\n",
    "@prefix schema: <http://schema.org/> .\n",
    "@prefix skos: <http://www.w3.org/2004/02/skos/core#> .\n",
    "@prefix xml: <http://www.w3.org/XML/1998/namespace> .\n",
    "@prefix xsd: <http://www.w3.org/2001/XMLSchema#> .\"\"\"\n",
    "\n",
    "sample_one = prefix + \"\"\"\n",
    "\n",
    "<http://digitalcollections.uwyo.edu/luna/servlet/detail/uwydbuwy~22~22~555818~187236> a bf:Item ;\n",
    "    bf:generationProcess [ a bf:GenerationProcess ;\n",
    "            bf:generationDate \"2017-08-18T01:49:24.602657\" ;\n",
    "            rdf:value \"Generated by BIBCAT version 1.13.0 from KnowledgeLinks.io\"^^xsd:string ] ;\n",
    "    bf:heldBy <http://www.uwyo.edu/ahc/> ;\n",
    "    bf:itemOf <https://plains2peaks.org/765b26e8-83b7-11e7-987f-ac87a3129ce6> ;\n",
    "    bf:usageAndAccessPolicy <http://rightsstatements.org/vocab/CNE/1.0/> .\n",
    "    \n",
    "<https://plains2peaks.org/765b26e8-83b7-11e7-987f-ac87a3129ce6> a bf:Instance ;\n",
    "    rdfs:label \"Granite Bluff, 1900\" ;\n",
    "    bf:coverArt [ a bf:CoverArt ;\n",
    "            rdf:value <http://digitalcollections.uwyo.edu/MediaManager/srvr?mediafile=/Size2/uwydbuwy-22-NA/1883/ah400044_00354.jpg> ] ;\n",
    "    bf:instanceOf <https://plains2peaks.org/765b4eac-83b7-11e7-a4e6-ac87a3129ce6#Work> ;\n",
    "    bf:subject [ a bf:Topic ;\n",
    "            rdf:value \"Knight, Samuel H., (Samuel Howell), 1892-1975\" ],\n",
    "        [ a bf:Topic ;\n",
    "            rdf:value \"Geology\" ],\n",
    "        [ a bf:Topic ;\n",
    "            rdf:value \"Wyoming--History--1890-\" ] ;\n",
    "    bf:title [ a bf:Title ;\n",
    "            rdf:value \"Granite Bluff, 1900\" ] .\n",
    "\n",
    "<https://plains2peaks.org/765b4eac-83b7-11e7-a4e6-ac87a3129ce6#Work> a bf:Work ;\n",
    "    bf:partOf <http://digitalcollections.uwyo.edu/luna/servlet/uwydbuwy~148~148>,\n",
    "        <http://digitalcollections.uwyo.edu/luna/servlet/uwydbuwy~22~22>,\n",
    "        <http://digitalcollections.uwyo.edu/luna/servlet/uwydbuwy~96~96> ;\n",
    "    bf:summary [ a bf:Summary ;\n",
    "            rdf:value \"Photograph of Granite Bluff, below and east of tunnel, October 1900\" ] ;\n",
    "    bf:temporalCoverage \"1900\" .\n",
    "\n",
    "    \"\"\"\n",
    "\n",
    "sample_two = prefix + \"\"\"<http://cdm16079.contentdm.oclc.org:80/cdm/ref/collection/p15330coll22/id/32926> a bf:Item ;\n",
    "    bf:generationProcess [ a bf:GenerationProcess ;\n",
    "            bf:generationDate \"2017-08-03T04:14:32.360747\" ;\n",
    "            rdf:value \"Generated by BIBCAT version 1.10.2 from KnowledgeLinks.io\"^^xsd:string ] ;\n",
    "    bf:heldBy <https://www.denverlibrary.org/> ;\n",
    "    bf:itemOf <https://plains2peaks.org/40633c2c-7802-11e7-b0f9-005056c00008> ;\n",
    "    bf:usageAndAccessPolicy <http://rightsstatements.org/vocab/CNE/1.0/> .\n",
    "\n",
    "<https://plains2peaks.org/40633c2c-7802-11e7-b0f9-005056c00008> a bf:Instance ;\n",
    "    bf:carrier [ a bf:Carrier ;\n",
    "            rdf:value \"Photographic prints.\" ],\n",
    "        [ a bf:Carrier ;\n",
    "            rdf:value \"Imaged.\" ],\n",
    "        [ a bf:Carrier ;\n",
    "            rdf:value \"Image\" ],\n",
    "        [ a bf:Carrier ;\n",
    "            rdf:value \"Nitrate negatives.\" ] ;\n",
    "    bf:coverArt [ a bf:CoverArt ;\n",
    "            rdf:value <http://digital.denverlibrary.org/utils/getthumbnail/collection/p15330coll22/id/32926> ] ;\n",
    "    bf:extent [ a bf:Extent ;\n",
    "            rdf:value \"1 photonegative : nitrate ; 15 x 10 cm. (6 x 4 in.); 1 photoprint ; 15 x 10 cm. (6 x 3 1/2 in.)\"^^xsd:string ] ;\n",
    "    bf:generationProcess [ a bf:GenerationProcess ;\n",
    "            bf:generationDate \"2017-08-03T04:14:32.360747\" ;\n",
    "            rdf:value \"Generated by BIBCAT version 1.10.2 from KnowledgeLinks.io\"^^xsd:string ] ;\n",
    "    bf:identifiedBy [ a bf:oclc ;\n",
    "            rdf:value \"40811329\"^^xsd:string ],\n",
    "        [ a bf:Local ;\n",
    "            rdf:value \"X-33358\"^^xsd:string ] ;\n",
    "    bf:instanceOf <https://plains2peaks.org/40633c2c-7802-11e7-b0f9-005056c00008#Work> ;\n",
    "    bf:media [ a bf:Media ;\n",
    "            rdf:value \"Photograph\"^^xsd:string ] ;\n",
    "    bf:note [ a bf:Note ;\n",
    "            bf:noteType \"admin\"@en ] ;\n",
    "    bf:partOf <https://plains2peaks.org/wh231-joseph-g-masters-papers> ;\n",
    "    bf:summary [ a bf:Summary ;\n",
    "            rdf:value \"Outdoor seated portrait of the wife of Wooden Leg, a seventy-eight year old Native American Northern Cheyenne woman, wearing a long cotton dress and braids. She was eighteen and in camp at time of the Little Bighorn.\"^^xsd:string ] ;\n",
    "    bf:title [ a bf:Title ;\n",
    "            bf:mainTitle \"Mrs. Wooden Leg, of Manderson, 18 yrs. old & in camp at time of Custer Battle\"^^xsd:string ] .\n",
    "\n",
    "<https://plains2peaks.org/40633c2c-7802-11e7-b0f9-005056c00008#Work> a bf:StillImage,\n",
    "        bf:Work ;\n",
    "    bf:changeDate \"12/23/2010\" ;\n",
    "    bf:contribution [ a bf:Contribution ;\n",
    "            bf:role relators:cre ;\n",
    "            rdf:value \"Masters, Joseph G., 1873-\" ] ;\n",
    "    bf:subject [ a bf:Temporal ;\n",
    "            rdf:value \"1936\" ],\n",
    "        <https://plains2peaks.org/agent/wooden-leg-mrs>,\n",
    "        <https://plains2peaks.org/topic/aged-persons-1930-1940>,\n",
    "        <https://plains2peaks.org/topic/cheyenne-indians-1930-1940>,\n",
    "        <https://plains2peaks.org/topic/indians-of-north-america-1930-1940>,\n",
    "        <https://plains2peaks.org/topic/little-bighorn-battle-of-the-mont-1876-veterans>,\n",
    "        <https://plains2peaks.org/topic/women-1930-1940>,\n",
    "        <https://plains2peaks.org/topic/wooden-leg-1858-family> . \"\"\"\n",
    "\n",
    "\n"
   ]
  },
  {
   "cell_type": "code",
   "execution_count": 4,
   "metadata": {},
   "outputs": [
    {
     "data": {
      "text/plain": [
       "<Graph identifier=N484d3a4a6cba41d69c3a1408499bb98d (<class 'rdflib.graph.Graph'>)>"
      ]
     },
     "execution_count": 4,
     "metadata": {},
     "output_type": "execute_result"
    }
   ],
   "source": [
    "example1, example2 = rdflib.Graph(), rdflib.Graph()\n",
    "example1.parse(data=sample_one, format='turtle')\n",
    "example2.parse(data=sample_two, format='turtle')"
   ]
  },
  {
   "cell_type": "code",
   "execution_count": null,
   "metadata": {},
   "outputs": [],
   "source": [
    "example1.authority='http://catalog.coloradocollege.edu/'\n",
    "new_example1 = example1.skolemize()"
   ]
  },
  {
   "cell_type": "code",
   "execution_count": null,
   "metadata": {},
   "outputs": [],
   "source": [
    "print(new_example1.serialize(format='turtle').decode())"
   ]
  },
  {
   "cell_type": "code",
   "execution_count": 5,
   "metadata": {},
   "outputs": [],
   "source": [
    "# Tool chain for converting MODS to BIBFRAME Metadata\n",
    "item_url=\"https://digitalcc.coloradocollege.edu/islandora/object/coccc:29797/\"\n",
    "mods_url = \"{}datastream/MODS\".format(item_url)\n",
    "mods_result = requests.get(mods_url)\n",
    "example3 = rdflib.Graph()\n",
    "from bibcat.rml import processor\n",
    "BASE_URL = 'https://tiger.coloradocollege.edu/'\n",
    "if sys.platform.startswith(\"win\"):\n",
    "    cc_rule = 'D:/2018/dpla-service-hub/profiles/colorado-college.ttl'\n",
    "elif sys.platform.startswith(\"linux\"):\n",
    "    cc_rule = \"/home/jpnelson/2018/dpla-service-hub/profiles/colorado-college.ttl\"\n",
    "mods2bf = processor.XMLProcessor(\n",
    "    rml_rules=['mods-to-bf.ttl', \n",
    "               'bibcat-base.ttl',\n",
    "               cc_rule],\n",
    "    namespaces={\"mods\": \"http://www.loc.gov/mods/v3\",\n",
    "                    \"xlink\": \"https://www.w3.org/1999/xlink\"},\n",
    "    base_url=BASE_URL,\n",
    "    triplestore_url='http://localhost:9999/blazegraph/sparql')\n",
    "instance_iri = rdflib.URIRef(\"{}{}\".format(BASE_URL, uuid.uuid1()))\n",
    "work_iri = rdflib.URIRef(\"{}#Work\".format(instance_iri))\n",
    "mods2bf.run(xml=mods_result.text,\n",
    "            item_iri=rdflib.URIRef(item_url),\n",
    "            instance_iri=instance_iri,\n",
    "            work_iri=work_iri)\n",
    "example3 = mods2bf.output"
   ]
  },
  {
   "cell_type": "code",
   "execution_count": null,
   "metadata": {},
   "outputs": [],
   "source": [
    "print(example3.serialize(format='turtle').decode())"
   ]
  },
  {
   "cell_type": "markdown",
   "metadata": {},
   "source": [
    "![Example One Thumbnail](http://digitalcollections.uwyo.edu/MediaManager/srvr?mediafile=/Size2/uwydbuwy-22-NA/1883/ah400044_00354.jpg)\n",
    "\n",
    "![Example_Two Thumbnail](http://digital.denverlibrary.org/utils/getthumbnail/collection/p15330coll22/id/32926)"
   ]
  },
  {
   "cell_type": "code",
   "execution_count": 6,
   "metadata": {},
   "outputs": [],
   "source": [
    "# Save Examples to BTree\n",
    "EXAMPLES_TREE = BPlusTree(\"{}/data/example-tree.db\".format(PROJECT_DIR),\n",
    "                          serializer=StrSerializer(),\n",
    "                          order=25,\n",
    "                          key_size=124)\n",
    "\n",
    "def load_examples(tree):\n",
    "    start = datetime.datetime.utcnow()\n",
    "    print(\"Starting at {}\".format(start))\n",
    "    total = 0\n",
    "    for row in [example1, example2, example3]:\n",
    "        for s,p,o in row:\n",
    "            total += 1\n",
    "            is_ingested = btree.add_patterns(\n",
    "                tree,\n",
    "                btree.add_entity(tree, s),\n",
    "                btree.add_entity(tree, p),\n",
    "                btree.add_entity(tree, o)\n",
    "            )\n",
    "    end = datetime.datetime.utcnow()\n",
    "    print(\"Finished loading {:,} triples at {}, total time={:,}\".format(\n",
    "        total,\n",
    "        end,\n",
    "        (end-start).seconds / 60.0))\n"
   ]
  },
  {
   "cell_type": "code",
   "execution_count": 7,
   "metadata": {},
   "outputs": [
    {
     "name": "stdout",
     "output_type": "stream",
     "text": [
      "Start size 1,700\n",
      "Starting at 2018-05-28 14:20:27.918495\n",
      "Finished loading 170 triples at 2018-05-28 14:20:28.768940, total time=0.0\n",
      "End size 2,043\n"
     ]
    }
   ],
   "source": [
    "print(\"Start size {:,}\".format(len(EXAMPLES_TREE)))\n",
    "load_examples(EXAMPLES_TREE)\n",
    "print(\"End size {:,}\".format(len(EXAMPLES_TREE)))\n",
    "EXAMPLES_TREE.close()"
   ]
  },
  {
   "cell_type": "markdown",
   "metadata": {},
   "source": [
    "## BTree Scaling\n",
    "First, we'll create the [Plains2Peaks.org](https://plains2peaks.org/) pilot dataset for testing purposes.\n",
    "\n",
    "The Pilot RDF dataset is available on the Pilot's Github "
   ]
  },
  {
   "cell_type": "code",
   "execution_count": null,
   "metadata": {},
   "outputs": [],
   "source": [
    "P2P_TREE = BPlusTree(\"{}/tmp/p2p-tree.db\".format(PROJECT_DIR),\n",
    "                   serializer=StrSerializer(),\n",
    "                   order=25,\n",
    "                   key_size=124)\n"
   ]
  },
  {
   "cell_type": "code",
   "execution_count": null,
   "metadata": {},
   "outputs": [],
   "source": [
    "P2P_PATH = os.path.join(BASE_DIR, \"Plains2PeaksPilot/data\")\n",
    "\n",
    "def load_p2p(tree):\n",
    "    start = datetime.datetime.utcnow()\n",
    "    print(\"Starting Load Plains2Peaks into Linked Fragments Server at {}\".format(\n",
    "        start))\n",
    "    for row in os.walk(P2P_PATH):\n",
    "        walk_result = row\n",
    "        break\n",
    "    triple_count = 0\n",
    "    for filename in walk_result[-1]:\n",
    "        g = rdflib.Graph()\n",
    "        g.parse(os.path.join(P2P_PATH, filename), format='turtle')\n",
    "        print(\"\"\"\\tFinished parsing {}, total triples: {:,}. Starting \n",
    "    ingestion into BTree\"\"\".format(filename,\n",
    "            len(g)))\n",
    "        for sub, pred, obj in g:\n",
    "            is_ingested = btree.add_patterns(tree,\n",
    "                btree.add_entity(tree,sub),\n",
    "                btree.add_entity(tree, pred),\n",
    "                btree.add_entity(tree, obj))\n",
    "            if not is_ingested:\n",
    "                print(\"F{:,}\".format(triple_count), end=\"\")\n",
    "            if not triple_count%100 and triple_count > 0:\n",
    "                print(\".\", end=\"\")\n",
    "            if not triple_count%1000:\n",
    "                tree.checkpoint()\n",
    "                print(\"{:,}\".format(triple_count), end=\"\")\n",
    "            triple_count += 1\n",
    "    end = datetime.datetime.utcnow()\n",
    "    tree_size = os.path.getsize(\"{}/tmp/p2p-tree.db\".format(PROJECT_DIR))\n",
    "    print(\"\"\"Finished at {}, total time {:,} minutes for {:,} triples.\n",
    "Final btree file size is {:,}k\"\"\".format(\n",
    "    end,\n",
    "    (end-start).seconds / 60.0,\n",
    "    triple_count,\n",
    "    tree_size))\n",
    "            \n",
    "                                             \n",
    "load_p2p(P2P_TREE)    \n",
    "    \n",
    "                               \n",
    "    \n",
    "    \n",
    "    "
   ]
  },
  {
   "cell_type": "code",
   "execution_count": null,
   "metadata": {},
   "outputs": [],
   "source": [
    "for row in os.walk(\"D:/2018/Plains2PeaksPilot/data\"):\n",
    "    print(row)"
   ]
  },
  {
   "cell_type": "code",
   "execution_count": null,
   "metadata": {},
   "outputs": [],
   "source": [
    "\n"
   ]
  },
  {
   "cell_type": "code",
   "execution_count": null,
   "metadata": {},
   "outputs": [],
   "source": []
  }
 ],
 "metadata": {
  "kernelspec": {
   "display_name": "Python 3",
   "language": "python",
   "name": "python3"
  },
  "language_info": {
   "codemirror_mode": {
    "name": "ipython",
    "version": 3
   },
   "file_extension": ".py",
   "mimetype": "text/x-python",
   "name": "python",
   "nbconvert_exporter": "python",
   "pygments_lexer": "ipython3",
   "version": "3.6.4"
  }
 },
 "nbformat": 4,
 "nbformat_minor": 2
}
