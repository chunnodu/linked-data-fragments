{
 "cells": [
  {
   "cell_type": "markdown",
   "metadata": {},
   "source": [
    "# Build Notebook\n",
    "Build Notebook for [Project 1](https://github.com/jermnelson/linked-data-fragments/projects/1)"
   ]
  },
  {
   "cell_type": "code",
   "execution_count": 2,
   "metadata": {},
   "outputs": [
    {
     "name": "stdout",
     "output_type": "stream",
     "text": [
      "2018-05-25 09:39:34.333244 win32 nt D:\\2018 D:\\2018\\linked-data-fragments\n"
     ]
    }
   ],
   "source": [
    "# Setup env\n",
    "import datetime, rdflib, pdb, sys, hashlib, requests\n",
    "import os, sys, rdflib, uuid\n",
    "from bplustree import BPlusTree, StrSerializer\n",
    "NOTEBOOK_DIR = os.path.split(os.path.abspath(os.curdir))[0]\n",
    "PROJECT_DIR = os.path.split(NOTEBOOK_DIR)[0]\n",
    "BASE_DIR = os.path.split(PROJECT_DIR)[0]\n",
    "CACHE_DIR = os.path.join(PROJECT_DIR, \"cache\")\n",
    "sys.path.append(CACHE_DIR)\n",
    "import btree\n",
    "print(datetime.datetime.now(), sys.platform, os.path.os.name, BASE_DIR, PROJECT_DIR)"
   ]
  },
  {
   "cell_type": "markdown",
   "metadata": {},
   "source": [
    "## Example One: Colorado College Knowledge Graphs\n",
    "\n",
    "To run this example, **BASE_DIR** should be the root directory where you have cloned the following git repositories:\n",
    "\n",
    "1.  `git clone https://github.com/jermnelson/linked-data-fragments.git`\n",
    "1.  `git clone https://github.com/Tutt-Library/tiger-catalog.git`\n",
    "1.  `git clone https://github.com/Tutt-Library/cc-scholarship-graph.git`\n"
   ]
  },
  {
   "cell_type": "code",
   "execution_count": null,
   "metadata": {},
   "outputs": [],
   "source": [
    "\n",
    "# Creating Colorado College Knowledge Graph\n",
    "CC = rdflib.Graph()\n",
    "def load_cc_scholarship():\n",
    "\tfor path in [\"/tiger-catalog/KnowledgeGraph/colorado-college.ttl\",\n",
    "\t\t \"/tiger-catalog/KnowledgeGraph/cc-people.ttl\",\n",
    "\t\t \"/tiger-catalog/KnowledgeGraph/cc-2016-2017.ttl\",\n",
    "\t\t \"/tiger-catalog/KnowledgeGraph/cc-2017-2018.ttl\",\n",
    "\t\t \"/cc-scholarship-graph/data/cc-research-statements.ttl\",\n",
    "\t\t \"/cc-scholarship-graph/data/cc-fast-subjects.ttl\",\n",
    "\t\t \"/cc-scholarship-graph/data/creative-works.ttl\"]:\n",
    "\t\tfull_path = \"{}{}\".format(BASE_DIR, path)        \n",
    "\t\tCC.parse(full_path, format='turtle')\n",
    "load_cc_scholarship()\n",
    "print(\"Colorado College Number of Triples: {:,}\".format(len(CC)))"
   ]
  },
  {
   "cell_type": "markdown",
   "metadata": {},
   "source": [
    "### Demo of BTree Linked Data Fragments \n",
    "Take subject, predicate, object triples from RDF Graph and create sha1 hashes of all Blank Nodes and IRI subjects and store in BTree. "
   ]
  },
  {
   "cell_type": "code",
   "execution_count": null,
   "metadata": {},
   "outputs": [],
   "source": [
    "CC_TREE = BPlusTree(\"{}/tmp/cc-tree.db\".format(PROJECT_DIR),\n",
    "                   serializer=StrSerializer(),\n",
    "                   order=25,\n",
    "                   key_size=124)"
   ]
  },
  {
   "cell_type": "code",
   "execution_count": null,
   "metadata": {},
   "outputs": [],
   "source": [
    "def build_strategy_one():\n",
    "    start = datetime.datetime.utcnow()\n",
    "    print(\"Starting loading Colorado College's {:,} triples at {} \".format(\n",
    "        len(CC),\n",
    "        start.isoformat()))\n",
    "    counter = 0\n",
    "    for subj, pred, obj in CC:\n",
    "        subj_sha1 = btree.add_entity(CC_TREE, subj)\n",
    "        pred_sha1 = btree.add_entity(CC_TREE, pred)\n",
    "        obj_sha1 = btree.add_entity(CC_TREE, obj)\n",
    "        btree.add_patterns(CC_TREE, subj_sha1, pred_sha1, obj_sha1)\n",
    "        if not counter%100 and counter > 0:\n",
    "            print(\".\", end=\"\")\n",
    "        if not counter%1000:\n",
    "            print(\"{:,}\".format(counter), end=\"\")\n",
    "            CC_TREE.checkpoint()\n",
    "        counter += 1\n",
    "\n",
    "    end = datetime.datetime.utcnow()\n",
    "    CC_TREE.close()\n",
    "    print(\"Finished loading at {}, total time {:,} min for {:,} triples\".format(\n",
    "        end,\n",
    "        (end-start).seconds / 60.0,\n",
    "        len(CC)))"
   ]
  },
  {
   "cell_type": "code",
   "execution_count": null,
   "metadata": {},
   "outputs": [],
   "source": [
    "build_strategy_one()"
   ]
  },
  {
   "cell_type": "code",
   "execution_count": null,
   "metadata": {},
   "outputs": [],
   "source": [
    "entity_tree_path = os.path.join(PROJECT_DIR, \"tmp/cc-entity-tree.db\")\n",
    "ENTITY_TREE = BPlusTree(\n",
    "    entity_tree_path,\n",
    "    order=10,\n",
    "    serializer=StrSerializer(),\n",
    "    key_size=40)\n",
    "triples_tree_path = os.path.join(PROJECT_DIR, \"tmp/cc-triples-tree.db\")\n"
   ]
  },
  {
   "cell_type": "code",
   "execution_count": null,
   "metadata": {},
   "outputs": [],
   "source": [
    "TRIPLES_TREE = BPlusTree(\n",
    "    triples_tree_path,\n",
    "    order=15,\n",
    "    serializer=StrSerializer(),\n",
    "    key_size=124\n",
    ")\n",
    "def build_test_two(graph):\n",
    "    start = datetime.datetime.utcnow()\n",
    "    authority = 'http://catalog.coloradocollege.edu/'\n",
    "    count = 0\n",
    "    print(\"Starting Build Test Two at {} for {:,} Triples in Graph\".format(\n",
    "        start,\n",
    "        len(graph)))\n",
    "    for subj, pred, obj in graph:\n",
    "        if isinstance(subj, rdflib.BNode):\n",
    "            subj = subj.skolemize(authority=authority)\n",
    "        if isinstance(obj, rdflib.BNode):\n",
    "            obj = obj.skolemize(authority=authority) \n",
    "        subject_sha1 = btree.add_entity(ENTITY_TREE, subj)\n",
    "        predicate_sha1 = btree.add_entity(ENTITY_TREE, pred)\n",
    "        object_sha1 = btree.add_entity(ENTITY_TREE, obj)\n",
    "        btree.add_patterns(TRIPLES_TREE, \n",
    "                           subject_sha1,\n",
    "                           predicate_sha1,\n",
    "                           object_sha1)\n",
    "        if not count%100 and count > 0:\n",
    "            print(\".\", end=\"\")\n",
    "        if not count%1000 and count > 0:\n",
    "            ENTITY_TREE.checkpoint()\n",
    "            TRIPLES_TREE.checkpoint()\n",
    "            print(\"{:,}\".format(count), end=\"\")\n",
    "        count += 1\n",
    "    end = datetime.datetime.utcnow()\n",
    "    ENTITY_TREE.checkpoint()\n",
    "    TRIPLES_TREE.checkpoint()    \n",
    "    entity_db_size = os.path.getsize(entity_tree_path)\n",
    "    triples_db_size = os.path.getsize(triples_tree_path)\n",
    "    print(\"\"\"Finished at {}, total time {:,} minutes for {:,} triples.\n",
    "        {:,} Entities in Btree, {:,} bytes for {}\n",
    "        {:,} Triples in Btree, {:,} bytes for {}\n",
    "    \"\"\".format(\n",
    "        end,\n",
    "        (end-start).seconds / 60.0,\n",
    "        len(graph),\n",
    "        len(ENTITY_TREE),\n",
    "        entity_db_size,\n",
    "        entity_tree_path,\n",
    "        len(TRIPLES_TREE),\n",
    "        triples_db_size,\n",
    "        triples_tree_path))\n",
    "    "
   ]
  },
  {
   "cell_type": "code",
   "execution_count": null,
   "metadata": {},
   "outputs": [],
   "source": [
    "build_test_two(CC)"
   ]
  },
  {
   "cell_type": "code",
   "execution_count": null,
   "metadata": {},
   "outputs": [],
   "source": [
    "TRIPLES_TREE = BPlusTree(\n",
    "    triples_tree_path,\n",
    "    order=15,\n",
    "    serializer=StrSerializer(),\n",
    "    key_size=32\n",
    ")\n",
    "def build_test_three(graph):\n",
    "    start = datetime.datetime.utcnow()\n",
    "    authority = 'http://catalog.coloradocollege.edu/'\n",
    "    count = 0\n",
    "    print(\"Starting Build Test Three at {} for {:,} Triples in Graph\".format(\n",
    "        start,\n",
    "        len(graph)))\n",
    "    for subj, pred, obj in graph:\n",
    "        if isinstance(subj, rdflib.BNode):\n",
    "            subj = subj.skolemize(authority=authority)\n",
    "        if isinstance(obj, rdflib.BNode):\n",
    "            obj = obj.skolemize(authority=authority)\n",
    "        subject_sha1 = btree.add_entity(ENTITY_TREE, subj, 10)\n",
    "        predicate_sha1 = btree.add_entity(ENTITY_TREE, pred, 10)\n",
    "        object_sha1 = btree.add_entity(ENTITY_TREE, obj, 10)\n",
    "        btree.add_patterns(TRIPLES_TREE, \n",
    "                           subject_sha1,\n",
    "                           predicate_sha1,\n",
    "                           object_sha1,\n",
    "                           10)\n",
    "        if not count%100 and count > 0:\n",
    "            print(\".\", end=\"\")\n",
    "        if not count%1000 and count > 0:\n",
    "            ENTITY_TREE.checkpoint()\n",
    "            TRIPLES_TREE.checkpoint()\n",
    "            print(\"{:,}\".format(count), end=\"\")\n",
    "        count += 1\n",
    "    end = datetime.datetime.utcnow()\n",
    "    ENTITY_TREE.checkpoint()\n",
    "    TRIPLES_TREE.checkpoint()    \n",
    "    entity_db_size = os.path.getsize(entity_tree_path)\n",
    "    triples_db_size = os.path.getsize(triples_tree_path)\n",
    "    print(\"\"\"Finished at {}, total time {:,} minutes for {:,} triples.\n",
    "        {:,} Entities in Btree, {:,} bytes for {}\n",
    "        {:,} Triples in Btree, {:,} bytes for {}\n",
    "    \"\"\".format(\n",
    "        end,\n",
    "        (end-start).seconds / 60.0,\n",
    "        len(graph),\n",
    "        len(ENTITY_TREE),\n",
    "        entity_db_size,\n",
    "        entity_tree_path,\n",
    "        len(TRIPLES_TREE),\n",
    "        triples_db_size,\n",
    "        triples_tree_path))"
   ]
  },
  {
   "cell_type": "code",
   "execution_count": null,
   "metadata": {},
   "outputs": [],
   "source": [
    "build_test_three(CC)"
   ]
  },
  {
   "cell_type": "markdown",
   "metadata": {},
   "source": [
    "## Example Two: Local BTree Strategies"
   ]
  },
  {
   "cell_type": "code",
   "execution_count": null,
   "metadata": {},
   "outputs": [],
   "source": [
    "from bplustree import BPlusTree, StrSerializer\n",
    "TEST_TREE = BPlusTree(\"/home/jpnelson/2018/linked-data-fragments/tmp/test-tree.db\",\n",
    "                   serializer=StrSerializer(),\n",
    "                   order=10,\n",
    "                   key_size=124)"
   ]
  },
  {
   "cell_type": "code",
   "execution_count": null,
   "metadata": {},
   "outputs": [],
   "source": [
    "prefix = \"\"\"@prefix bf: <http://id.loc.gov/ontologies/bibframe/> .\n",
    "@prefix prov: <http://www.w3.org/ns/prov#> .\n",
    "@prefix rdf: <http://www.w3.org/1999/02/22-rdf-syntax-ns#> .\n",
    "@prefix rdfs: <http://www.w3.org/2000/01/rdf-schema#> .\n",
    "@prefix relators: <http://id.loc.gov/vocabulary/relators/> .\n",
    "@prefix schema: <http://schema.org/> .\n",
    "@prefix skos: <http://www.w3.org/2004/02/skos/core#> .\n",
    "@prefix xml: <http://www.w3.org/XML/1998/namespace> .\n",
    "@prefix xsd: <http://www.w3.org/2001/XMLSchema#> .\"\"\"\n",
    "\n",
    "sample_one = prefix + \"\"\"\n",
    "\n",
    "<http://digitalcollections.uwyo.edu/luna/servlet/detail/uwydbuwy~22~22~555818~187236> a bf:Item ;\n",
    "    bf:generationProcess [ a bf:GenerationProcess ;\n",
    "            bf:generationDate \"2017-08-18T01:49:24.602657\" ;\n",
    "            rdf:value \"Generated by BIBCAT version 1.13.0 from KnowledgeLinks.io\"^^xsd:string ] ;\n",
    "    bf:heldBy <http://www.uwyo.edu/ahc/> ;\n",
    "    bf:itemOf <https://plains2peaks.org/765b26e8-83b7-11e7-987f-ac87a3129ce6> ;\n",
    "    bf:usageAndAccessPolicy <http://rightsstatements.org/vocab/CNE/1.0/> .\n",
    "    \n",
    "<https://plains2peaks.org/765b26e8-83b7-11e7-987f-ac87a3129ce6> a bf:Instance ;\n",
    "    rdfs:label \"Granite Bluff, 1900\" ;\n",
    "    bf:coverArt [ a bf:CoverArt ;\n",
    "            rdf:value <http://digitalcollections.uwyo.edu/MediaManager/srvr?mediafile=/Size2/uwydbuwy-22-NA/1883/ah400044_00354.jpg> ] ;\n",
    "    bf:instanceOf <https://plains2peaks.org/765b4eac-83b7-11e7-a4e6-ac87a3129ce6#Work> ;\n",
    "    bf:subject [ a bf:Topic ;\n",
    "            rdf:value \"Knight, Samuel H., (Samuel Howell), 1892-1975\" ],\n",
    "        [ a bf:Topic ;\n",
    "            rdf:value \"Geology\" ],\n",
    "        [ a bf:Topic ;\n",
    "            rdf:value \"Wyoming--History--1890-\" ] ;\n",
    "    bf:title [ a bf:Title ;\n",
    "            rdf:value \"Granite Bluff, 1900\" ] .\n",
    "\n",
    "<https://plains2peaks.org/765b4eac-83b7-11e7-a4e6-ac87a3129ce6#Work> a bf:Work ;\n",
    "    bf:partOf <http://digitalcollections.uwyo.edu/luna/servlet/uwydbuwy~148~148>,\n",
    "        <http://digitalcollections.uwyo.edu/luna/servlet/uwydbuwy~22~22>,\n",
    "        <http://digitalcollections.uwyo.edu/luna/servlet/uwydbuwy~96~96> ;\n",
    "    bf:summary [ a bf:Summary ;\n",
    "            rdf:value \"Photograph of Granite Bluff, below and east of tunnel, October 1900\" ] ;\n",
    "    bf:temporalCoverage \"1900\" .\n",
    "\n",
    "    \"\"\"\n",
    "\n",
    "sample_two = prefix + \"\"\"<http://cdm16079.contentdm.oclc.org:80/cdm/ref/collection/p15330coll22/id/32926> a bf:Item ;\n",
    "    bf:generationProcess [ a bf:GenerationProcess ;\n",
    "            bf:generationDate \"2017-08-03T04:14:32.360747\" ;\n",
    "            rdf:value \"Generated by BIBCAT version 1.10.2 from KnowledgeLinks.io\"^^xsd:string ] ;\n",
    "    bf:heldBy <https://www.denverlibrary.org/> ;\n",
    "    bf:itemOf <https://plains2peaks.org/40633c2c-7802-11e7-b0f9-005056c00008> ;\n",
    "    bf:usageAndAccessPolicy <http://rightsstatements.org/vocab/CNE/1.0/> .\n",
    "\n",
    "<https://plains2peaks.org/40633c2c-7802-11e7-b0f9-005056c00008> a bf:Instance ;\n",
    "    bf:carrier [ a bf:Carrier ;\n",
    "            rdf:value \"Photographic prints.\" ],\n",
    "        [ a bf:Carrier ;\n",
    "            rdf:value \"Imaged.\" ],\n",
    "        [ a bf:Carrier ;\n",
    "            rdf:value \"Image\" ],\n",
    "        [ a bf:Carrier ;\n",
    "            rdf:value \"Nitrate negatives.\" ] ;\n",
    "    bf:coverArt [ a bf:CoverArt ;\n",
    "            rdf:value <http://digital.denverlibrary.org/utils/getthumbnail/collection/p15330coll22/id/32926> ] ;\n",
    "    bf:extent [ a bf:Extent ;\n",
    "            rdf:value \"1 photonegative : nitrate ; 15 x 10 cm. (6 x 4 in.); 1 photoprint ; 15 x 10 cm. (6 x 3 1/2 in.)\"^^xsd:string ] ;\n",
    "    bf:generationProcess [ a bf:GenerationProcess ;\n",
    "            bf:generationDate \"2017-08-03T04:14:32.360747\" ;\n",
    "            rdf:value \"Generated by BIBCAT version 1.10.2 from KnowledgeLinks.io\"^^xsd:string ] ;\n",
    "    bf:identifiedBy [ a bf:oclc ;\n",
    "            rdf:value \"40811329\"^^xsd:string ],\n",
    "        [ a bf:Local ;\n",
    "            rdf:value \"X-33358\"^^xsd:string ] ;\n",
    "    bf:instanceOf <https://plains2peaks.org/40633c2c-7802-11e7-b0f9-005056c00008#Work> ;\n",
    "    bf:media [ a bf:Media ;\n",
    "            rdf:value \"Photograph\"^^xsd:string ] ;\n",
    "    bf:note [ a bf:Note ;\n",
    "            bf:noteType \"admin\"@en ] ;\n",
    "    bf:partOf <https://plains2peaks.org/wh231-joseph-g-masters-papers> ;\n",
    "    bf:summary [ a bf:Summary ;\n",
    "            rdf:value \"Outdoor seated portrait of the wife of Wooden Leg, a seventy-eight year old Native American Northern Cheyenne woman, wearing a long cotton dress and braids. She was eighteen and in camp at time of the Little Bighorn.\"^^xsd:string ] ;\n",
    "    bf:title [ a bf:Title ;\n",
    "            bf:mainTitle \"Mrs. Wooden Leg, of Manderson, 18 yrs. old & in camp at time of Custer Battle\"^^xsd:string ] .\n",
    "\n",
    "<https://plains2peaks.org/40633c2c-7802-11e7-b0f9-005056c00008#Work> a bf:StillImage,\n",
    "        bf:Work ;\n",
    "    bf:changeDate \"12/23/2010\" ;\n",
    "    bf:contribution [ a bf:Contribution ;\n",
    "            bf:role relators:cre ;\n",
    "            rdf:value \"Masters, Joseph G., 1873-\" ] ;\n",
    "    bf:subject [ a bf:Temporal ;\n",
    "            rdf:value \"1936\" ],\n",
    "        <https://plains2peaks.org/agent/wooden-leg-mrs>,\n",
    "        <https://plains2peaks.org/topic/aged-persons-1930-1940>,\n",
    "        <https://plains2peaks.org/topic/cheyenne-indians-1930-1940>,\n",
    "        <https://plains2peaks.org/topic/indians-of-north-america-1930-1940>,\n",
    "        <https://plains2peaks.org/topic/little-bighorn-battle-of-the-mont-1876-veterans>,\n",
    "        <https://plains2peaks.org/topic/women-1930-1940>,\n",
    "        <https://plains2peaks.org/topic/wooden-leg-1858-family> . \"\"\"\n",
    "\n",
    "\n"
   ]
  },
  {
   "cell_type": "code",
   "execution_count": null,
   "metadata": {},
   "outputs": [],
   "source": [
    "example1, example2 = rdflib.Graph(), rdflib.Graph()\n",
    "example1.parse(data=sample_one, format='turtle')\n",
    "example2.parse(data=sample_two, format='turtle')"
   ]
  },
  {
   "cell_type": "code",
   "execution_count": null,
   "metadata": {},
   "outputs": [],
   "source": [
    "example1.authority='http://catalog.coloradocollege.edu/'\n",
    "new_example1 = example1.skolemize()"
   ]
  },
  {
   "cell_type": "code",
   "execution_count": null,
   "metadata": {},
   "outputs": [],
   "source": [
    "print(new_example1.serialize(format='turtle').decode())"
   ]
  },
  {
   "cell_type": "code",
   "execution_count": null,
   "metadata": {},
   "outputs": [],
   "source": [
    "# Tool chain for converting MODS to BIBFRAME Metadata\n",
    "item_url=\"https://digitalcc.coloradocollege.edu/islandora/object/coccc:29797/\"\n",
    "mods_url = \"{}datastream/MODS\".format(item_url)\n",
    "mods_result = requests.get(mods_url)\n",
    "example3 = rdflib.Graph()\n",
    "from bibcat.rml import processor\n",
    "BASE_URL = 'https://tiger.coloradocollege.edu/'\n",
    "if sys.platform.startswith(\"win\"):\n",
    "    cc_rule = 'D:/2018/dpla-service-hub/profiles/colorado-college.ttl'\n",
    "elif sys.platform.startswith(\"linux\"):\n",
    "    cc_rule = \"/home/jpnelson/2018/dpla-service-hub/profiles/colorado-college.ttl\"\n",
    "mods2bf = processor.XMLProcessor(\n",
    "    rml_rules=['mods-to-bf.ttl', \n",
    "               'bibcat-base.ttl',\n",
    "               cc_rule],\n",
    "    namespaces={\"mods\": \"http://www.loc.gov/mods/v3\",\n",
    "                    \"xlink\": \"https://www.w3.org/1999/xlink\"},\n",
    "    base_url=BASE_URL,\n",
    "    triplestore_url='http://localhost:9999/blazegraph/sparql')\n",
    "instance_iri = rdflib.URIRef(\"{}{}\".format(BASE_URL, uuid.uuid1()))\n",
    "work_iri = rdflib.URIRef(\"{}#Work\".format(instance_iri))\n",
    "mods2bf.run(xml=mods_result.text,\n",
    "            item_iri=rdflib.URIRef(item_url),\n",
    "            instance_iri=instance_iri,\n",
    "            work_iri=work_iri)\n",
    "example3 = mods2bf.output"
   ]
  },
  {
   "cell_type": "code",
   "execution_count": null,
   "metadata": {},
   "outputs": [],
   "source": [
    "print(example3.serialize(format='turtle').decode())"
   ]
  },
  {
   "cell_type": "markdown",
   "metadata": {},
   "source": [
    "![Example One Thumbnail](http://digitalcollections.uwyo.edu/MediaManager/srvr?mediafile=/Size2/uwydbuwy-22-NA/1883/ah400044_00354.jpg)\n",
    "\n",
    "![Example_Two Thumbnail](http://digital.denverlibrary.org/utils/getthumbnail/collection/p15330coll22/id/32926)"
   ]
  },
  {
   "cell_type": "code",
   "execution_count": null,
   "metadata": {},
   "outputs": [],
   "source": [
    "# Save Examples to BTree\n",
    "EXAMPLES_TREE = BPlusTree(\"{}/data/example-tree.db\".format(PROJECT_DIR),\n",
    "                          serializer=StrSerializer(),\n",
    "                          order=25,\n",
    "                          key_size=124)\n",
    "\n",
    "def load_examples(tree):\n",
    "    for row in [example1, example2, example3]:\n",
    "        for s,p,o in row:\n",
    "            is_ingested = btree.add_patterns(\n",
    "                tree,\n",
    "                btree.add_entity(tree, s),\n",
    "                btree.add_entity(tree, p),\n",
    "                btree.add_entity(tree, o)\n",
    "            )\n",
    "            "
   ]
  },
  {
   "cell_type": "markdown",
   "metadata": {},
   "source": [
    "## BTree Scaling\n",
    "First, we'll create the [Plains2Peaks.org](https://plains2peaks.org/) pilot dataset for testing purposes.\n",
    "\n",
    "The Pilot RDF dataset is available on the Pilot's Github "
   ]
  },
  {
   "cell_type": "code",
   "execution_count": 3,
   "metadata": {},
   "outputs": [],
   "source": [
    "P2P_TREE = BPlusTree(\"{}/tmp/p2p-tree.db\".format(PROJECT_DIR),\n",
    "                   serializer=StrSerializer(),\n",
    "                   order=25,\n",
    "                   key_size=124)\n"
   ]
  },
  {
   "cell_type": "code",
   "execution_count": null,
   "metadata": {},
   "outputs": [
    {
     "name": "stdout",
     "output_type": "stream",
     "text": [
      "Starting Load Plains2Peaks into Linked Fragments Server at 2018-05-25 15:40:33.180260\n",
      "\tFinished parsing american-heritage.ttl, total triples: 271,365. Starting \n",
      "    ingestion into BTree\n",
      "0..........1,000..........2,000..........3,000..........4,000..........5,000..........6,000..........7,000..........8,000..........9,000..........10,000..........11,000..........12,000..........13,000..........14,000..........15,000..........16,000..........17,000..........18,000..........19,000..........20,000..........21,000..........22,000..........23,000..........24,000..........25,000..........26,000..........27,000..........28,000..........29,000..........30,000..........31,000..........32,000..........33,000..........34,000..........35,000..........36,000..........37,000..........38,000..........39,000..........40,000..........41,000..........42,000..........43,000..........44,000..........45,000..........46,000..........47,000..........48,000..........49,000..........50,000..........51,000..........52,000..........53,000..........54,000..........55,000..........56,000..........57,000..........58,000..........59,000..........60,000..........61,000..........62,000..........63,000..........64,000..........65,000..........66,000..........67,000..........68,000..........69,000..........70,000..........71,000..........72,000..........73,000..........74,000..........75,000..........76,000..........77,000..........78,000..........79,000..........80,000..........81,000..........82,000..........83,000..........84,000..........85,000..........86,000..........87,000..........88,000..........89,000..........90,000..........91,000..........92,000..........93,000..........94,000..........95,000..........96,000..........97,000..........98,000..........99,000..........100,000..........101,000..........102,000..........103,000..........104,000..........105,000..........106,000..........107,000..........108,000..........109,000..........110,000..........111,000..........112,000..........113,000..........114,000..........115,000..........116,000..........117,000..........118,000..........119,000..........120,000..........121,000..........122,000..........123,000..........124,000..........125,000..........126,000..........127,000..........128,000..........129,000..........130,000..........131,000..........132,000..........133,000..........134,000..........135,000..........136,000..........137,000..........138,000..........139,000..........140,000..........141,000..........142,000..........143,000..........144,000..........145,000..........146,000..........147,000..........148,000..........149,000..........150,000..........151,000..........152,000..........153,000..........154,000..........155,000..........156,000..........157,000..........158,000..........159,000..........160,000..........161,000..........162,000..........163,000..........164,000..........165,000..........166,000..........167,000..........168,000..........169,000..........170,000..........171,000..........172,000..........173,000..........174,000..........175,000..........176,000..........177,000..........178,000..........179,000..........180,000..........181,000..........182,000..........183,000..........184,000..........185,000..........186,000..........187,000..........188,000..........189,000..........190,000..........191,000..........192,000..........193,000..........194,000..........195,000..........196,000..........197,000..........198,000..........199,000..........200,000..........201,000..........202,000..........203,000..........204,000..........205,000..........206,000..........207,000..........208,000..........209,000..........210,000..........211,000..........212,000..........213,000..........214,000..........215,000..........216,000..........217,000..........218,000..........219,000..........220,000..........221,000..........222,000..........223,000..........224,000..........225,000..........226,000..........227,000..........228,000..........229,000..........230,000..........231,000..........232,000..........233,000..........234,000..........235,000..........236,000..........237,000..........238,000..........239,000..........240,000..........241,000..........242,000..........243,000..........244,000..........245,000..........246,000..........247,000..........248,000..........249,000..........250,000..........251,000..........252,000..........253,000..........254,000..........255,000..........256,000..........257,000..........258,000..........259,000..........260,000..........261,000..........262,000..........263,000..........264,000..........265,000..........266,000..........267,000..........268,000..........269,000..........270,000..........271,000...\tFinished parsing colorado-college.ttl, total triples: 544,484. Starting \n",
      "    ingestion into BTree\n"
     ]
    },
    {
     "name": "stdout",
     "output_type": "stream",
     "text": [
      ".......272,000..........273,000..........274,000..........275,000..........276,000..........277,000..........278,000..........279,000..........280,000..........281,000..........282,000..........283,000..........284,000..........285,000..........286,000..........287,000..........288,000..........289,000..........290,000..........291,000..........292,000..........293,000..........294,000..........295,000..........296,000..........297,000..........298,000..........299,000..........300,000..........301,000..........302,000..........303,000..........304,000..........305,000..........306,000..........307,000..........308,000..........309,000..........310,000..........311,000..........312,000..........313,000..........314,000..........315,000..........316,000..........317,000..........318,000..........319,000..........320,000..........321,000..........322,000..........323,000..........324,000..........325,000..........326,000..........327,000..........328,000..........329,000..........330,000..........331,000..........332,000..........333,000..........334,000..........335,000..........336,000..........337,000..........338,000..........339,000..........340,000..........341,000..........342,000..........343,000..........344,000..........345,000..........346,000..........347,000..........348,000..........349,000..........350,000..........351,000..........352,000..........353,000..........354,000..........355,000..........356,000..........357,000..........358,000..........359,000..........360,000..........361,000..........362,000..........363,000..........364,000..........365,000..........366,000..........367,000..........368,000..........369,000..........370,000..........371,000..........372,000..........373,000..........374,000..........375,000..........376,000..........377,000..........378,000..........379,000..........380,000..........381,000..........382,000..........383,000..........384,000..........385,000..........386,000..........387,000..........388,000..........389,000..........390,000..........391,000..........392,000..........393,000..........394,000..........395,000..........396,000..........397,000..........398,000..........399,000..........400,000..........401,000..........402,000..........403,000..........404,000..........405,000..........406,000..........407,000..........408,000..........409,000..........410,000..........411,000..........412,000..........413,000..........414,000..........415,000..........416,000..........417,000..........418,000..........419,000..........420,000..........421,000..........422,000..........423,000..........424,000..........425,000..........426,000..........427,000..........428,000..........429,000..........430,000..........431,000..........432,000..........433,000..........434,000..........435,000..........436,000..........437,000..........438,000..........439,000..........440,000..........441,000..........442,000..........443,000..........444,000..........445,000..........446,000..........447,000..........448,000..........449,000..........450,000..........451,000..........452,000..........453,000..........454,000..........455,000..........456,000..........457,000..........458,000..........459,000..........460,000..........461,000..........462,000..........463,000..........464,000..........465,000..........466,000..........467,000..........468,000..........469,000..........470,000..........471,000..........472,000..........473,000..........474,000..........475,000..........476,000..........477,000..........478,000..........479,000..........480,000..........481,000..........482,000..........483,000..........484,000..........485,000..........486,000..........487,000..........488,000..........489,000..........490,000..........491,000..........492,000..........493,000..........494,000..........495,000..........496,000..........497,000..........498,000..........499,000..........500,000..........501,000..........502,000..........503,000..........504,000..........505,000..........506,000..........507,000..........508,000..........509,000..........510,000..........511,000..........512,000..........513,000..........514,000..........515,000..........516,000..........517,000..........518,000..........519,000..........520,000..........521,000..........522,000..........523,000..........524,000..........525,000..........526,000..........527,000..........528,000..........529,000..........530,000..........531,000..........532,000..........533,000..........534,000..........535,000..........536,000..........537,000..........538,000..........539,000..........540,000..........541,000..........542,000..........543,000..........544,000..........545,000..........546,000..........547,000..........548,000..........549,000..........550,000..........551,000..........552,000..........553,000..........554,000..........555,000..........556,000..........557,000..........558,000..........559,000..........560,000..........561,000..........562,000..........563,000..........564,000..........565,000..........566,000..........567,000..........568,000..........569,000..........570,000..........571,000..........572,000..........573,000..........574,000..........575,000..........576,000..........577,000..........578,000..........579,000..........580,000..........581,000..........582,000..........583,000..........584,000..........585,000..........586,000..........587,000..........588,000..........589,000..........590,000..........591,000..........592,000..........593,000..........594,000..........595,000..........596,000..........597,000..........598,000..........599,000..........600,000..........601,000..........602,000..........603,000..........604,000..........605,000..........606,000..........607,000..........608,000..........609,000..........610,000..........611,000..........612,000..........613,000..........614,000..........615,000..........616,000..........617,000..........618,000..........619,000..........620,000..........621,000..........622,000..........623,000..........624,000..........625,000..........626,000..........627,000..........628,000..........629,000..........630,000..........631,000..........632,000..........633,000..........634,000..........635,000..........636,000..........637,000..........638,000..........639,000..........640,000..........641,000..........642,000..........643,000..........644,000..........645,000..........646,000..........647,000..........648,000..........649,000..........650,000..........651,000..........652,000..........653,000..........654,000..........655,000..........656,000..........657,000..........658,000..........659,000..........660,000..........661,000..........662,000..........663,000..........664,000..........665,000..........666,000..........667,000..........668,000..........669,000..........670,000..........671,000..........672,000..........673,000..........674,000..........675,000..........676,000..........677,000..........678,000..........679,000..........680,000..........681,000..........682,000..........683,000..........684,000..........685,000..........686,000..........687,000..........688,000..........689,000..........690,000..........691,000..........692,000..........693,000..........694,000..........695,000..........696,000..........697,000..........698,000..........699,000..........700,000..........701,000..........702,000..........703,000..........704,000..........705,000..........706,000..........707,000..........708,000..........709,000..........710,000..........711,000..........712,000..........713,000..........714,000..........715,000..........716,000..........717,000..........718,000..........719,000..........720,000..........721,000..........722,000..........723,000..........724,000..........725,000..........726,000..........727,000..........728,000..........729,000..........730,000..........731,000..........732,000..........733,000..........734,000..........735,000..........736,000..........737,000..........738,000..........739,000..........740,000..........741,000..........742,000..........743,000..........744,000..........745,000..........746,000..........747,000..........748,000..........749,000..........750,000..........751,000..........752,000..........753,000.."
     ]
    },
    {
     "name": "stdout",
     "output_type": "stream",
     "text": [
      "........754,000..........755,000..........756,000..........757,000..........758,000..........759,000..........760,000..........761,000..........762,000..........763,000..........764,000..........765,000..........766,000..........767,000..........768,000..........769,000..........770,000..........771,000..........772,000..........773,000..........774,000..........775,000..........776,000..........777,000..........778,000..........779,000..........780,000..........781,000..........782,000..........783,000..........784,000..........785,000..........786,000..........787,000..........788,000..........789,000..........790,000..........791,000..........792,000..........793,000..........794,000..........795,000..........796,000..........797,000..........798,000..........799,000..........800,000..........801,000..........802,000..........803,000..........804,000..........805,000..........806,000..........807,000..........808,000..........809,000..........810,000..........811,000..........812,000..........813,000..........814,000..........815,000........\tFinished parsing colorado-state-publications.ttl, total triples: 311,424. Starting \n",
      "    ingestion into BTree\n",
      "..816,000..........817,000..........818,000..........819,000..........820,000..........821,000..........822,000..........823,000..........824,000..........825,000..........826,000..........827,000..........828,000..........829,000..........830,000..........831,000..........832,000..........833,000..........834,000..........835,000..........836,000..........837,000..........838,000..........839,000..........840,000..........841,000..........842,000..........843,000..........844,000..........845,000..........846,000..........847,000..........848,000..........849,000..........850,000..........851,000..........852,000..........853,000..........854,000..........855,000..........856,000..........857,000..........858,000..........859,000..........860,000..........861,000..........862,000..........863,000..........864,000..........865,000..........866,000..........867,000..........868,000..........869,000..........870,000..........871,000..........872,000..........873,000..........874,000..........875,000..........876,000..........877,000..........878,000..........879,000..........880,000..........881,000..........882,000..........883,000..........884,000..........885,000..........886,000..........887,000..........888,000..........889,000..........890,000..........891,000..........892,000..........893,000..........894,000..........895,000..........896,000..........897,000..........898,000..........899,000..........900,000..........901,000..........902,000..........903,000..........904,000..........905,000..........906,000..........907,000..........908,000..........909,000..........910,000..........911,000..........912,000..........913,000..........914,000..........915,000..........916,000..........917,000..........918,000..........919,000..........920,000..........921,000..........922,000..........923,000..........924,000..........925,000..........926,000..........927,000..........928,000..........929,000..........930,000..........931,000..........932,000..........933,000..........934,000..........935,000..........936,000..........937,000..........938,000..........939,000..........940,000..........941,000..........942,000..........943,000..........944,000..........945,000..........946,000..........947,000..........948,000..........949,000..........950,000..........951,000..........952,000..........953,000..........954,000..........955,000..........956,000..........957,000..........958,000..........959,000..........960,000..........961,000..........962,000..........963,000..........964,000..........965,000..........966,000..........967,000..........968,000..........969,000..........970,000..........971,000..........972,000..........973,000..........974,000..........975,000..........976,000..........977,000..........978,000..........979,000..........980,000..........981,000..........982,000..........983,000..........984,000..........985,000..........986,000..........987,000..........988,000..........989,000..........990,000..........991,000..........992,000..........993,000..........994,000..........995,000..........996,000..........997,000..........998,000..........999,000..........1,000,000..........1,001,000..........1,002,000..........1,003,000..........1,004,000..........1,005,000..........1,006,000..........1,007,000..........1,008,000..........1,009,000..........1,010,000..........1,011,000..........1,012,000..........1,013,000..........1,014,000..........1,015,000..........1,016,000..........1,017,000..........1,018,000..........1,019,000..........1,020,000..........1,021,000..........1,022,000..........1,023,000..........1,024,000..........1,025,000..........1,026,000..........1,027,000..........1,028,000..........1,029,000..........1,030,000..........1,031,000..........1,032,000..........1,033,000..........1,034,000..........1,035,000..........1,036,000..........1,037,000..........1,038,000..........1,039,000..........1,040,000..........1,041,000..........1,042,000..........1,043,000..........1,044,000..........1,045,000..........1,046,000..........1,047,000..........1,048,000..........1,049,000..........1,050,000..........1,051,000..........1,052,000..........1,053,000..........1,054,000..........1,055,000..........1,056,000..........1,057,000..........1,058,000..........1,059,000..........1,060,000..........1,061,000..........1,062,000..........1,063,000..........1,064,000..........1,065,000..........1,066,000..........1,067,000..........1,068,000..........1,069,000..........1,070,000..........1,071,000..........1,072,000..........1,073,000..........1,074,000..........1,075,000..........1,076,000..........1,077,000..........1,078,000..........1,079,000..........1,080,000..........1,081,000..........1,082,000..........1,083,000..........1,084,000..........1,085,000..........1,086,000..........1,087,000..........1,088,000..........1,089,000..........1,090,000..........1,091,000..........1,092,000..........1,093,000..........1,094,000..........1,095,000..........1,096,000..........1,097,000..........1,098,000..........1,099,000..........1,100,000..........1,101,000..........1,102,000..........1,103,000..........1,104,000..........1,105,000..........1,106,000..........1,107,000..........1,108,000..........1,109,000..........1,110,000..........1,111,000..........1,112,000..........1,113,000..........1,114,000..........1,115,000..........1,116,000..........1,117,000..........1,118,000..........1,119,000..........1,120,000..........1,121,000..........1,122,000..........1,123,000..........1,124,000..........1,125,000..........1,126,000..........1,127,000..\tFinished parsing denver-public-library.ttl, total triples: 491,886. Starting \n",
      "    ingestion into BTree\n"
     ]
    },
    {
     "name": "stdout",
     "output_type": "stream",
     "text": [
      "........1,128,000..........1,129,000..........1,130,000..........1,131,000..........1,132,000..........1,133,000..........1,134,000..........1,135,000..........1,136,000..........1,137,000..........1,138,000..........1,139,000..........1,140,000..........1,141,000..........1,142,000..........1,143,000..........1,144,000..........1,145,000..........1,146,000..........1,147,000..........1,148,000..........1,149,000..........1,150,000..........1,151,000..........1,152,000..........1,153,000..........1,154,000..........1,155,000..........1,156,000..........1,157,000..........1,158,000..........1,159,000..........1,160,000..........1,161,000..........1,162,000..........1,163,000..........1,164,000..........1,165,000..........1,166,000..........1,167,000..........1,168,000..........1,169,000..........1,170,000..........1,171,000..........1,172,000..........1,173,000..........1,174,000..........1,175,000..........1,176,000..........1,177,000..........1,178,000..........1,179,000..........1,180,000..........1,181,000..........1,182,000..........1,183,000..........1,184,000..........1,185,000..........1,186,000..........1,187,000..........1,188,000..........1,189,000..........1,190,000..........1,191,000..........1,192,000..........1,193,000..........1,194,000..........1,195,000..........1,196,000..........1,197,000..........1,198,000..........1,199,000..........1,200,000..........1,201,000..........1,202,000..........1,203,000..........1,204,000..........1,205,000..........1,206,000..........1,207,000..........1,208,000..........1,209,000..........1,210,000..........1,211,000..........1,212,000..........1,213,000..........1,214,000..........1,215,000..........1,216,000..........1,217,000..........1,218,000..........1,219,000..........1,220,000..........1,221,000..........1,222,000..........1,223,000..........1,224,000..........1,225,000..........1,226,000..........1,227,000..........1,228,000..........1,229,000..........1,230,000..........1,231,000..........1,232,000..........1,233,000..........1,234,000..........1,235,000..........1,236,000..........1,237,000..........1,238,000..........1,239,000..........1,240,000..........1,241,000..........1,242,000..........1,243,000..........1,244,000..........1,245,000..........1,246,000..........1,247,000..........1,248,000..........1,249,000..........1,250,000..........1,251,000..........1,252,000..........1,253,000..........1,254,000..........1,255,000..........1,256,000..........1,257,000..........1,258,000..........1,259,000..........1,260,000..........1,261,000..........1,262,000..........1,263,000..........1,264,000..........1,265,000..........1,266,000..........1,267,000..........1,268,000..........1,269,000..........1,270,000..........1,271,000..........1,272,000..........1,273,000..........1,274,000..........1,275,000..........1,276,000..........1,277,000..........1,278,000..........1,279,000..........1,280,000..........1,281,000..........1,282,000..........1,283,000..........1,284,000..........1,285,000..........1,286,000..........1,287,000..........1,288,000..........1,289,000..........1,290,000..........1,291,000..........1,292,000..........1,293,000..........1,294,000..........1,295,000..........1,296,000..........1,297,000..........1,298,000..........1,299,000..........1,300,000..........1,301,000..........1,302,000..........1,303,000..........1,304,000..........1,305,000..........1,306,000..........1,307,000..........1,308,000..........1,309,000..........1,310,000..........1,311,000..........1,312,000..........1,313,000..........1,314,000..........1,315,000..........1,316,000..........1,317,000..........1,318,000..........1,319,000..........1,320,000..........1,321,000..........1,322,000..........1,323,000..........1,324,000..........1,325,000..........1,326,000..........1,327,000..........1,328,000..........1,329,000..........1,330,000..........1,331,000..........1,332,000..........1,333,000..........1,334,000..........1,335,000..........1,336,000..........1,337,000..........1,338,000..........1,339,000..........1,340,000..........1,341,000..........1,342,000..........1,343,000..........1,344,000..........1,345,000..........1,346,000..........1,347,000..........1,348,000..........1,349,000..........1,350,000..........1,351,000..........1,352,000..........1,353,000..........1,354,000..........1,355,000..........1,356,000..........1,357,000..........1,358,000..........1,359,000..........1,360,000..........1,361,000..........1,362,000..........1,363,000..........1,364,000..........1,365,000..........1,366,000..........1,367,000..........1,368,000..........1,369,000..........1,370,000..........1,371,000..........1,372,000..........1,373,000..........1,374,000..........1,375,000..........1,376,000..........1,377,000..........1,378,000..........1,379,000..........1,380,000..........1,381,000..........1,382,000..........1,383,000..........1,384,000..........1,385,000..........1,386,000..........1,387,000..........1,388,000..........1,389,000..........1,390,000..........1,391,000..........1,392,000..........1,393,000..........1,394,000..........1,395,000..........1,396,000..........1,397,000..........1,398,000..........1,399,000..........1,400,000..........1,401,000..........1,402,000..........1,403,000..........1,404,000..........1,405,000..........1,406,000..........1,407,000..........1,408,000..........1,409,000..........1,410,000..........1,411,000..........1,412,000..........1,413,000..........1,414,000..........1,415,000..........1,416,000..........1,417,000..........1,418,000..........1,419,000..........1,420,000..........1,421,000..........1,422,000..........1,423,000..........1,424,000..........1,425,000..........1,426,000..........1,427,000..........1,428,000..........1,429,000..........1,430,000..........1,431,000..........1,432,000..........1,433,000..........1,434,000..........1,435,000..........1,436,000..........1,437,000..........1,438,000..........1,439,000..........1,440,000..........1,441,000..........1,442,000..........1,443,000..........1,444,000..........1,445,000..........1,446,000..........1,447,000..........1,448,000..........1,449,000..........1,450,000..........1,451,000..........1,452,000..........1,453,000..........1,454,000..........1,455,000..........1,456,000..........1,457,000..........1,458,000..........1,459,000..........1,460,000..........1,461,000..........1,462,000..........1,463,000..........1,464,000..........1,465,000..........1,466,000..........1,467,000..........1,468,000..........1,469,000..........1,470,000..........1,471,000..........1,472,000..........1,473,000..........1,474,000..........1,475,000..........1,476,000..........1,477,000..........1,478,000..........1,479,000..........1,480,000..........1,481,000..........1,482,000..........1,483,000..........1,484,000..........1,485,000..........1,486,000..........1,487,000..........1,488,000..........1,489,000..........1,490,000..........1,491,000..........1,492,000..........1,493,000..........1,494,000..........1,495,000..........1,496,000..........1,497,000..........1,498,000..........1,499,000..........1,500,000..........1,501,000..........1,502,000..........1,503,000..........1,504,000..........1,505,000..........1,506,000..........1,507,000..........1,508,000..........1,509,000..........1,510,000..........1,511,000..........1,512,000..........1,513,000..........1,514,000..........1,515,000..........1,516,000..........1,517,000..........1,518,000..........1,519,000..........1,520,000..........1,521,000..........1,522,000..........1,523,000..........1,524,000..........1,525,000..........1,526,000..........1,527,000..........1,528,000..........1,529,000..........1,530,000..........1,531,000..........1,532,000..........1,533,000..........1,534,000..........1,535,000..........1,536,000..........1,537,000..........1,538,000..........1,539,000..........1,540,000..........1,541,000..........1,542,000..........1,543,000..........1,544,000..........1,545,000..........1,546,000..........1,547,000..........1,548,000..........1,549,000..........1,550,000..........1,551,000..........1,552,000..........1,553,000..........1,554,000..........1,555,000..........1,556,000..........1,557,000..........1,558,000......"
     ]
    },
    {
     "name": "stdout",
     "output_type": "stream",
     "text": [
      "....1,559,000..........1,560,000..........1,561,000..........1,562,000..........1,563,000..........1,564,000..........1,565,000..........1,566,000..........1,567,000..........1,568,000..........1,569,000..........1,570,000..........1,571,000..........1,572,000..........1,573,000..........1,574,000..........1,575,000..........1,576,000..........1,577,000..........1,578,000..........1,579,000..........1,580,000..........1,581,000..........1,582,000..........1,583,000..........1,584,000..........1,585,000..........1,586,000..........1,587,000..........1,588,000..........1,589,000..........1,590,000..........1,591,000..........1,592,000..........1,593,000..........1,594,000..........1,595,000..........1,596,000..........1,597,000..........1,598,000..........1,599,000..........1,600,000..........1,601,000..........1,602,000..........1,603,000..........1,604,000..........1,605,000..........1,606,000..........1,607,000..........1,608,000..........1,609,000..........1,610,000..........1,611,000..........1,612,000..........1,613,000..........1,614,000..........1,615,000..........1,616,000..........1,617,000..........1,618,000..........1,619,000.\tFinished parsing history-colorado.ttl, total triples: 503,449. Starting \n",
      "    ingestion into BTree\n",
      ".........1,620,000..........1,621,000..........1,622,000..........1,623,000..........1,624,000..........1,625,000..........1,626,000..........1,627,000..........1,628,000..........1,629,000..........1,630,000..........1,631,000..........1,632,000..........1,633,000..........1,634,000..........1,635,000..........1,636,000..........1,637,000..........1,638,000..........1,639,000..........1,640,000..........1,641,000..........1,642,000..........1,643,000..........1,644,000..........1,645,000..........1,646,000..........1,647,000..........1,648,000..........1,649,000..........1,650,000..........1,651,000..........1,652,000..........1,653,000..........1,654,000..........1,655,000..........1,656,000..........1,657,000..........1,658,000..........1,659,000..........1,660,000..........1,661,000..........1,662,000..........1,663,000..........1,664,000..........1,665,000..........1,666,000..........1,667,000..........1,668,000..........1,669,000..........1,670,000..........1,671,000..........1,672,000..........1,673,000..........1,674,000..........1,675,000..........1,676,000..........1,677,000..........1,678,000..........1,679,000..........1,680,000..........1,681,000..........1,682,000..........1,683,000..........1,684,000..........1,685,000..........1,686,000..........1,687,000.........."
     ]
    }
   ],
   "source": [
    "P2P_PATH = os.path.join(BASE_DIR, \"Plains2PeaksPilot/data\")\n",
    "\n",
    "def load_p2p(tree):\n",
    "    start = datetime.datetime.utcnow()\n",
    "    print(\"Starting Load Plains2Peaks into Linked Fragments Server at {}\".format(\n",
    "        start))\n",
    "    for row in os.walk(P2P_PATH):\n",
    "        walk_result = row\n",
    "        break\n",
    "    triple_count = 0\n",
    "    for filename in walk_result[-1]:\n",
    "        g = rdflib.Graph()\n",
    "        g.parse(os.path.join(P2P_PATH, filename), format='turtle')\n",
    "        print(\"\"\"\\tFinished parsing {}, total triples: {:,}. Starting \n",
    "    ingestion into BTree\"\"\".format(filename,\n",
    "            len(g)))\n",
    "        for sub, pred, obj in g:\n",
    "            is_ingested = btree.add_patterns(tree,\n",
    "                btree.add_entity(tree,sub),\n",
    "                btree.add_entity(tree, pred),\n",
    "                btree.add_entity(tree, obj))\n",
    "            if not is_ingested:\n",
    "                print(\"F{:,}\".format(triple_count), end=\"\")\n",
    "            if not triple_count%100 and triple_count > 0:\n",
    "                print(\".\", end=\"\")\n",
    "            if not triple_count%1000:\n",
    "                tree.checkpoint()\n",
    "                print(\"{:,}\".format(triple_count), end=\"\")\n",
    "            triple_count += 1\n",
    "    end = datetime.datetime.utcnow()\n",
    "    tree_size = os.path.getsize(\"{}/tmp/p2p-tree.db\".format(PROJECT_DIR))\n",
    "    print(\"\"\"Finished at {}, total time {:,} minutes for {:,} triples.\n",
    "Final btree file size is {:,}k\"\"\".format(\n",
    "    end,\n",
    "    (end-start).seconds / 60.0,\n",
    "    triple_count,\n",
    "    tree_size))\n",
    "            \n",
    "                                             \n",
    "load_p2p(P2P_TREE)    \n",
    "    \n",
    "                               \n",
    "    \n",
    "    \n",
    "    "
   ]
  },
  {
   "cell_type": "code",
   "execution_count": null,
   "metadata": {},
   "outputs": [],
   "source": [
    "for row in os.walk(\"D:/2018/Plains2PeaksPilot/data\"):\n",
    "    print(row)"
   ]
  },
  {
   "cell_type": "code",
   "execution_count": null,
   "metadata": {},
   "outputs": [],
   "source": [
    "\n"
   ]
  },
  {
   "cell_type": "code",
   "execution_count": null,
   "metadata": {},
   "outputs": [],
   "source": []
  }
 ],
 "metadata": {
  "kernelspec": {
   "display_name": "Python 3",
   "language": "python",
   "name": "python3"
  },
  "language_info": {
   "codemirror_mode": {
    "name": "ipython",
    "version": 3
   },
   "file_extension": ".py",
   "mimetype": "text/x-python",
   "name": "python",
   "nbconvert_exporter": "python",
   "pygments_lexer": "ipython3",
   "version": "3.6.4"
  }
 },
 "nbformat": 4,
 "nbformat_minor": 2
}
