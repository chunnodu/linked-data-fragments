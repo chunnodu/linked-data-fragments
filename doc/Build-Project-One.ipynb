{
 "cells": [
  {
   "cell_type": "markdown",
   "metadata": {},
   "source": [
    "# Build Notebook\n",
    "Build Notebook for [Project 1](https://github.com/jermnelson/linked-data-fragments/projects/1)"
   ]
  },
  {
   "cell_type": "markdown",
   "metadata": {},
   "source": [
    "## Example One: Colorado College Knowledge Graphs"
   ]
  },
  {
   "cell_type": "code",
   "execution_count": 8,
   "metadata": {},
   "outputs": [
    {
     "name": "stdout",
     "output_type": "stream",
     "text": [
      "Colorado College Number of Triples: 27,992\n"
     ]
    }
   ],
   "source": [
    "import datetime, rdflib, pdb, sys, hashlib\n",
    "from bplustree import BPlusTree, StrSerializer\n",
    "sys.path.append(\"D:/2018/linked-data-fragments/cache/\")\n",
    "import btree\n",
    "# Creating Colorado College Knowledge Graph\n",
    "CC = rdflib.Graph()\n",
    "def load_cc_scholarship():\n",
    "\tfor path in [\"D:/2018/tiger-catalog/KnowledgeGraph/colorado-college.ttl\",\n",
    "\t\t \"D:/2018/tiger-catalog/KnowledgeGraph/cc-people.ttl\",\n",
    "\t\t \"D:/2018/tiger-catalog/KnowledgeGraph/cc-2016-2017.ttl\",\n",
    "\t\t \"D:/2018/tiger-catalog/KnowledgeGraph/cc-2017-2018.ttl\",\n",
    "\t\t \"D:/2018/cc-scholarship-graph/data/cc-research-statements.ttl\",\n",
    "\t\t \"D:/2018/cc-scholarship-graph/data/cc-fast-subjects.ttl\",\n",
    "\t\t \"D:/2018/cc-scholarship-graph/data/creative-works.ttl\"]:\n",
    "\t\tCC.parse(path, format='turtle')\n",
    "load_cc_scholarship()\n",
    "print(\"Colorado College Number of Triples: {:,}\".format(len(CC)))"
   ]
  },
  {
   "cell_type": "markdown",
   "metadata": {},
   "source": [
    "### Demo of BTree Linked Data Fragments \n",
    "Take subject, predicate, object triples from RDF Graph and create sha1 hashes of all Blank Nodes and IRI subjects and store in BTree. "
   ]
  },
  {
   "cell_type": "code",
   "execution_count": 9,
   "metadata": {},
   "outputs": [],
   "source": [
    "CC_TREE = BPlusTree(\"D:/2018/linked-data-fragments/tmp/cc-tree.db\",\n",
    "                   serializer=StrSerializer(),\n",
    "                   order=10,\n",
    "                   key_size=124)"
   ]
  },
  {
   "cell_type": "code",
   "execution_count": 10,
   "metadata": {},
   "outputs": [
    {
     "name": "stdout",
     "output_type": "stream",
     "text": [
      "Starting loading Colorado College's 27,992 triples at 2018-05-21T22:08:03.160067 \n",
      "0....................................................................................................1,000....................................................................................................2,000....................................................................................................3,000....................................................................................................4,000....................................................................................................5,000....................................................................................................6,000....................................................................................................7,000....................................................................................................8,000....................................................................................................9,000....................................................................................................10,000....................................................................................................11,000....................................................................................................12,000....................................................................................................13,000....................................................................................................14,000....................................................................................................15,000....................................................................................................16,000....................................................................................................17,000....................................................................................................18,000....................................................................................................19,000....................................................................................................20,000....................................................................................................21,000....................................................................................................22,000....................................................................................................23,000....................................................................................................24,000....................................................................................................25,000....................................................................................................26,000....................................................................................................27,000...................................................................................................Finished loading at 2018-05-21 22:18:58.331714, total time 10.916666666666666 min for 27,992 triples\n"
     ]
    }
   ],
   "source": [
    "start = datetime.datetime.utcnow()\n",
    "print(\"Starting loading Colorado College's {:,} triples at {} \".format(\n",
    "    len(CC),\n",
    "    start.isoformat()))\n",
    "counter = 0\n",
    "for subj, pred, obj in CC:\n",
    "    subj_sha1 = hashlib.sha1(str(subj).encode()).hexdigest()\n",
    "    pred_sha1 = hashlib.sha1(str(pred).encode()).hexdigest()\n",
    "    obj_sha1 = hashlib.sha1(str(obj).encode()).hexdigest()\n",
    "    # Add/Create Subject, Predicate, and Object\n",
    "    if not subj_sha1 in CC_TREE:\n",
    "        CC_TREE.insert(subj_sha1, str(subj).encode())\n",
    "    if not pred_sha1 in CC_TREE:\n",
    "        CC_TREE.insert(pred_sha1, str(pred).encode())\n",
    "    if not obj_sha1 in CC_TREE:\n",
    "        CC_TREE.insert(obj_sha1, str(obj).encode())\n",
    "    btree.add_patterns(CC_TREE, subj_sha1, pred_sha1, obj_sha1)\n",
    "    if not counter%10 and counter > 0:\n",
    "        print(\".\", end=\"\")\n",
    "        CC_TREE.checkpoint()\n",
    "    if not counter%1000:\n",
    "        print(\"{:,}\".format(counter), end=\"\")\n",
    "    counter += 1\n",
    "        \n",
    "end = datetime.datetime.utcnow()\n",
    "CC_TREE.close()\n",
    "print(\"Finished loading at {}, total time {:,} min for {:,} triples\".format(\n",
    "    end,\n",
    "    (end-start).seconds / 60.0,\n",
    "    len(CC)))"
   ]
  },
  {
   "cell_type": "code",
   "execution_count": 4,
   "metadata": {},
   "outputs": [
    {
     "name": "stdout",
     "output_type": "stream",
     "text": [
      "Starting loading Colorado College's 27,992 triples at 2018-05-21T22:08:03.160067 \n",
      "0....................................................................................................1,000....................................................................................................2,000....................................................................................................3,000....................................................................................................4,000....................................................................................................5,000....................................................................................................6,000....................................................................................................7,000....................................................................................................8,000....................................................................................................9,000....................................................................................................10,000....................................................................................................11,000....................................................................................................12,000....................................................................................................13,000....................................................................................................14,000....................................................................................................15,000....................................................................................................16,000....................................................................................................17,000....................................................................................................18,000....................................................................................................19,000....................................................................................................20,000....................................................................................................21,000....................................................................................................22,000....................................................................................................23,000....................................................................................................24,000....................................................................................................25,000....................................................................................................26,000....................................................................................................27,000...................................................................................................Finished loading at 2018-05-21 22:18:58.331714, total time 10.916666666666666 min for 27,992 triples\n",
      "\n"
     ]
    }
   ],
   "source": [
    "output = \"\"\"Starting loading Colorado College's 27,992 triples at 2018-05-21T22:08:03.160067 \n",
    "0....................................................................................................1,000....................................................................................................2,000....................................................................................................3,000....................................................................................................4,000....................................................................................................5,000....................................................................................................6,000....................................................................................................7,000....................................................................................................8,000....................................................................................................9,000....................................................................................................10,000....................................................................................................11,000....................................................................................................12,000....................................................................................................13,000....................................................................................................14,000....................................................................................................15,000....................................................................................................16,000....................................................................................................17,000....................................................................................................18,000....................................................................................................19,000....................................................................................................20,000....................................................................................................21,000....................................................................................................22,000....................................................................................................23,000....................................................................................................24,000....................................................................................................25,000....................................................................................................26,000....................................................................................................27,000...................................................................................................Finished loading at 2018-05-21 22:18:58.331714, total time 10.916666666666666 min for 27,992 triples\n",
    "\"\"\"\n",
    "print(output)"
   ]
  },
  {
   "cell_type": "code",
   "execution_count": 5,
   "metadata": {},
   "outputs": [
    {
     "data": {
      "text/plain": [
       "3.75"
      ]
     },
     "execution_count": 5,
     "metadata": {},
     "output_type": "execute_result"
    }
   ],
   "source": [
    "(end-start).seconds / 60.0\n"
   ]
  },
  {
   "cell_type": "markdown",
   "metadata": {},
   "source": [
    "## Example Two: Unit Test for Local BTree "
   ]
  },
  {
   "cell_type": "code",
   "execution_count": 5,
   "metadata": {},
   "outputs": [
    {
     "name": "stdout",
     "output_type": "stream",
     "text": [
      "linux\n",
      "/home/jpnelson/2018/linked-data-fragments/doc\n"
     ]
    }
   ],
   "source": [
    "import os, sys, rdflib\n",
    "print(sys.platform)\n",
    "print(os.path.abspath(os.curdir))"
   ]
  },
  {
   "cell_type": "code",
   "execution_count": 7,
   "metadata": {},
   "outputs": [],
   "source": [
    "from bplustree import BPlusTree, StrSerializer\n",
    "TEST_TREE = BPlusTree(\"/home/jpnelson/2018/linked-data-fragments/tmp/test-tree.db\",\n",
    "                   serializer=StrSerializer(),\n",
    "                   order=10,\n",
    "                   key_size=124)"
   ]
  },
  {
   "cell_type": "code",
   "execution_count": 8,
   "metadata": {},
   "outputs": [],
   "source": [
    "prefix = \"\"\"@prefix bf: <http://id.loc.gov/ontologies/bibframe/> .\n",
    "@prefix prov: <http://www.w3.org/ns/prov#> .\n",
    "@prefix rdf: <http://www.w3.org/1999/02/22-rdf-syntax-ns#> .\n",
    "@prefix rdfs: <http://www.w3.org/2000/01/rdf-schema#> .\n",
    "@prefix relators: <http://id.loc.gov/vocabulary/relators/> .\n",
    "@prefix schema: <http://schema.org/> .\n",
    "@prefix skos: <http://www.w3.org/2004/02/skos/core#> .\n",
    "@prefix xml: <http://www.w3.org/XML/1998/namespace> .\n",
    "@prefix xsd: <http://www.w3.org/2001/XMLSchema#> .\"\"\"\n",
    "\n",
    "sample_one = prefix + \"\"\"\n",
    "\n",
    "<http://digitalcollections.uwyo.edu/luna/servlet/detail/uwydbuwy~22~22~555818~187236> a bf:Item ;\n",
    "    bf:generationProcess [ a bf:GenerationProcess ;\n",
    "            bf:generationDate \"2017-08-18T01:49:24.602657\" ;\n",
    "            rdf:value \"Generated by BIBCAT version 1.13.0 from KnowledgeLinks.io\"^^xsd:string ] ;\n",
    "    bf:heldBy <http://www.uwyo.edu/ahc/> ;\n",
    "    bf:itemOf <https://plains2peaks.org/765b26e8-83b7-11e7-987f-ac87a3129ce6> ;\n",
    "    bf:usageAndAccessPolicy <http://rightsstatements.org/vocab/CNE/1.0/> .\n",
    "    \n",
    "<https://plains2peaks.org/765b26e8-83b7-11e7-987f-ac87a3129ce6> a bf:Instance ;\n",
    "    rdfs:label \"Granite Bluff, 1900\" ;\n",
    "    bf:coverArt [ a bf:CoverArt ;\n",
    "            rdf:value <http://digitalcollections.uwyo.edu/MediaManager/srvr?mediafile=/Size2/uwydbuwy-22-NA/1883/ah400044_00354.jpg> ] ;\n",
    "    bf:instanceOf <https://plains2peaks.org/765b4eac-83b7-11e7-a4e6-ac87a3129ce6#Work> ;\n",
    "    bf:subject [ a bf:Topic ;\n",
    "            rdf:value \"Knight, Samuel H., (Samuel Howell), 1892-1975\" ],\n",
    "        [ a bf:Topic ;\n",
    "            rdf:value \"Geology\" ],\n",
    "        [ a bf:Topic ;\n",
    "            rdf:value \"Wyoming--History--1890-\" ] ;\n",
    "    bf:title [ a bf:Title ;\n",
    "            rdf:value \"Granite Bluff, 1900\" ] .\n",
    "\n",
    "<https://plains2peaks.org/765b4eac-83b7-11e7-a4e6-ac87a3129ce6#Work> a bf:Work ;\n",
    "    bf:partOf <http://digitalcollections.uwyo.edu/luna/servlet/uwydbuwy~148~148>,\n",
    "        <http://digitalcollections.uwyo.edu/luna/servlet/uwydbuwy~22~22>,\n",
    "        <http://digitalcollections.uwyo.edu/luna/servlet/uwydbuwy~96~96> ;\n",
    "    bf:summary [ a bf:Summary ;\n",
    "            rdf:value \"Photograph of Granite Bluff, below and east of tunnel, October 1900\" ] ;\n",
    "    bf:temporalCoverage \"1900\" .\n",
    "\n",
    "    \"\"\"\n",
    "\n",
    "sample_two = prefix + \"\"\"<http://cdm16079.contentdm.oclc.org:80/cdm/ref/collection/p15330coll22/id/32926> a bf:Item ;\n",
    "    bf:generationProcess [ a bf:GenerationProcess ;\n",
    "            bf:generationDate \"2017-08-03T04:14:32.360747\" ;\n",
    "            rdf:value \"Generated by BIBCAT version 1.10.2 from KnowledgeLinks.io\"^^xsd:string ] ;\n",
    "    bf:heldBy <https://www.denverlibrary.org/> ;\n",
    "    bf:itemOf <https://plains2peaks.org/40633c2c-7802-11e7-b0f9-005056c00008> ;\n",
    "    bf:usageAndAccessPolicy <http://rightsstatements.org/vocab/CNE/1.0/> .\n",
    "\n",
    "<https://plains2peaks.org/40633c2c-7802-11e7-b0f9-005056c00008> a bf:Instance ;\n",
    "    bf:carrier [ a bf:Carrier ;\n",
    "            rdf:value \"Photographic prints.\" ],\n",
    "        [ a bf:Carrier ;\n",
    "            rdf:value \"Imaged.\" ],\n",
    "        [ a bf:Carrier ;\n",
    "            rdf:value \"Image\" ],\n",
    "        [ a bf:Carrier ;\n",
    "            rdf:value \"Nitrate negatives.\" ] ;\n",
    "    bf:coverArt [ a bf:CoverArt ;\n",
    "            rdf:value <http://digital.denverlibrary.org/utils/getthumbnail/collection/p15330coll22/id/32926> ] ;\n",
    "    bf:extent [ a bf:Extent ;\n",
    "            rdf:value \"1 photonegative : nitrate ; 15 x 10 cm. (6 x 4 in.); 1 photoprint ; 15 x 10 cm. (6 x 3 1/2 in.)\"^^xsd:string ] ;\n",
    "    bf:generationProcess [ a bf:GenerationProcess ;\n",
    "            bf:generationDate \"2017-08-03T04:14:32.360747\" ;\n",
    "            rdf:value \"Generated by BIBCAT version 1.10.2 from KnowledgeLinks.io\"^^xsd:string ] ;\n",
    "    bf:identifiedBy [ a bf:oclc ;\n",
    "            rdf:value \"40811329\"^^xsd:string ],\n",
    "        [ a bf:Local ;\n",
    "            rdf:value \"X-33358\"^^xsd:string ] ;\n",
    "    bf:instanceOf <https://plains2peaks.org/40633c2c-7802-11e7-b0f9-005056c00008#Work> ;\n",
    "    bf:media [ a bf:Media ;\n",
    "            rdf:value \"Photograph\"^^xsd:string ] ;\n",
    "    bf:note [ a bf:Note ;\n",
    "            bf:noteType \"admin\"@en ] ;\n",
    "    bf:partOf <https://plains2peaks.org/wh231-joseph-g-masters-papers> ;\n",
    "    bf:summary [ a bf:Summary ;\n",
    "            rdf:value \"Outdoor seated portrait of the wife of Wooden Leg, a seventy-eight year old Native American Northern Cheyenne woman, wearing a long cotton dress and braids. She was eighteen and in camp at time of the Little Bighorn.\"^^xsd:string ] ;\n",
    "    bf:title [ a bf:Title ;\n",
    "            bf:mainTitle \"Mrs. Wooden Leg, of Manderson, 18 yrs. old & in camp at time of Custer Battle\"^^xsd:string ] .\n",
    "\n",
    "<https://plains2peaks.org/40633c2c-7802-11e7-b0f9-005056c00008#Work> a bf:StillImage,\n",
    "        bf:Work ;\n",
    "    bf:changeDate \"12/23/2010\" ;\n",
    "    bf:contribution [ a bf:Contribution ;\n",
    "            bf:role relators:cre ;\n",
    "            rdf:value \"Masters, Joseph G., 1873-\" ] ;\n",
    "    bf:subject [ a bf:Temporal ;\n",
    "            rdf:value \"1936\" ],\n",
    "        <https://plains2peaks.org/agent/wooden-leg-mrs>,\n",
    "        <https://plains2peaks.org/topic/aged-persons-1930-1940>,\n",
    "        <https://plains2peaks.org/topic/cheyenne-indians-1930-1940>,\n",
    "        <https://plains2peaks.org/topic/indians-of-north-america-1930-1940>,\n",
    "        <https://plains2peaks.org/topic/little-bighorn-battle-of-the-mont-1876-veterans>,\n",
    "        <https://plains2peaks.org/topic/women-1930-1940>,\n",
    "        <https://plains2peaks.org/topic/wooden-leg-1858-family> . \"\"\""
   ]
  },
  {
   "cell_type": "code",
   "execution_count": 9,
   "metadata": {},
   "outputs": [
    {
     "data": {
      "text/plain": [
       "<Graph identifier=Nae82ab66ed5a425d842f9969b3dfad6b (<class 'rdflib.graph.Graph'>)>"
      ]
     },
     "execution_count": 9,
     "metadata": {},
     "output_type": "execute_result"
    }
   ],
   "source": [
    "example1, example2 = rdflib.Graph(), rdflib.Graph()\n",
    "example1.parse(data=sample_one, format='turtle')\n",
    "example2.parse(data=sample_two, format='turtle')"
   ]
  },
  {
   "cell_type": "markdown",
   "metadata": {},
   "source": [
    "![Example One Thumbnail](http://digitalcollections.uwyo.edu/MediaManager/srvr?mediafile=/Size2/uwydbuwy-22-NA/1883/ah400044_00354.jpg)\n",
    "\n",
    "![Example_Two Thumbnail](http://digital.denverlibrary.org/utils/getthumbnail/collection/p15330coll22/id/32926)"
   ]
  },
  {
   "cell_type": "code",
   "execution_count": 10,
   "metadata": {},
   "outputs": [
    {
     "name": "stdout",
     "output_type": "stream",
     "text": [
      "<http://digitalcollections.uwyo.edu/luna/servlet/detail/uwydbuwy~22~22~555818~187236> <http://id.loc.gov/ontologies/bibframe/itemOf> <https://plains2peaks.org/765b26e8-83b7-11e7-987f-ac87a3129ce6> .\n",
      "<https://plains2peaks.org/765b26e8-83b7-11e7-987f-ac87a3129ce6> <http://www.w3.org/2000/01/rdf-schema#label> \"Granite Bluff, 1900\" .\n",
      "_:ub1bL29C14 <http://www.w3.org/1999/02/22-rdf-syntax-ns#value> \"Granite Bluff, 1900\" .\n",
      "<http://digitalcollections.uwyo.edu/luna/servlet/detail/uwydbuwy~22~22~555818~187236> <http://id.loc.gov/ontologies/bibframe/usageAndAccessPolicy> <http://rightsstatements.org/vocab/CNE/1.0/> .\n",
      "_:ub1bL27C9 <http://www.w3.org/1999/02/22-rdf-syntax-ns#value> \"Wyoming--History--1890-\" .\n",
      "<https://plains2peaks.org/765b4eac-83b7-11e7-a4e6-ac87a3129ce6#Work> <http://id.loc.gov/ontologies/bibframe/partOf> <http://digitalcollections.uwyo.edu/luna/servlet/uwydbuwy~96~96> .\n",
      "<https://plains2peaks.org/765b26e8-83b7-11e7-987f-ac87a3129ce6> <http://id.loc.gov/ontologies/bibframe/subject> _:ub1bL27C9 .\n",
      "<http://digitalcollections.uwyo.edu/luna/servlet/detail/uwydbuwy~22~22~555818~187236> <http://www.w3.org/1999/02/22-rdf-syntax-ns#type> <http://id.loc.gov/ontologies/bibframe/Item> .\n",
      "_:ub1bL11C26 <http://www.w3.org/1999/02/22-rdf-syntax-ns#value> \"Generated by BIBCAT version 1.13.0 from KnowledgeLinks.io\"^^<http://www.w3.org/2001/XMLSchema#string> .\n",
      "_:ub1bL20C17 <http://www.w3.org/1999/02/22-rdf-syntax-ns#value> <http://digitalcollections.uwyo.edu/MediaManager/srvr?mediafile=/Size2/uwydbuwy-22-NA/1883/ah400044_00354.jpg> .\n",
      "_:ub1bL20C17 <http://www.w3.org/1999/02/22-rdf-syntax-ns#type> <http://id.loc.gov/ontologies/bibframe/CoverArt> .\n",
      "_:ub1bL25C9 <http://www.w3.org/1999/02/22-rdf-syntax-ns#type> <http://id.loc.gov/ontologies/bibframe/Topic> .\n",
      "_:ub1bL25C9 <http://www.w3.org/1999/02/22-rdf-syntax-ns#value> \"Geology\" .\n",
      "_:ub1bL29C14 <http://www.w3.org/1999/02/22-rdf-syntax-ns#type> <http://id.loc.gov/ontologies/bibframe/Title> .\n",
      "<https://plains2peaks.org/765b4eac-83b7-11e7-a4e6-ac87a3129ce6#Work> <http://id.loc.gov/ontologies/bibframe/temporalCoverage> \"1900\" .\n",
      "<https://plains2peaks.org/765b26e8-83b7-11e7-987f-ac87a3129ce6> <http://id.loc.gov/ontologies/bibframe/subject> _:ub1bL23C16 .\n",
      "<https://plains2peaks.org/765b26e8-83b7-11e7-987f-ac87a3129ce6> <http://id.loc.gov/ontologies/bibframe/instanceOf> <https://plains2peaks.org/765b4eac-83b7-11e7-a4e6-ac87a3129ce6#Work> .\n",
      "_:ub1bL11C26 <http://www.w3.org/1999/02/22-rdf-syntax-ns#type> <http://id.loc.gov/ontologies/bibframe/GenerationProcess> .\n",
      "<https://plains2peaks.org/765b4eac-83b7-11e7-a4e6-ac87a3129ce6#Work> <http://www.w3.org/1999/02/22-rdf-syntax-ns#type> <http://id.loc.gov/ontologies/bibframe/Work> .\n",
      "_:ub1bL23C16 <http://www.w3.org/1999/02/22-rdf-syntax-ns#value> \"Knight, Samuel H., (Samuel Howell), 1892-1975\" .\n",
      "_:ub1bL27C9 <http://www.w3.org/1999/02/22-rdf-syntax-ns#type> <http://id.loc.gov/ontologies/bibframe/Topic> .\n",
      "<http://digitalcollections.uwyo.edu/luna/servlet/detail/uwydbuwy~22~22~555818~187236> <http://id.loc.gov/ontologies/bibframe/generationProcess> _:ub1bL11C26 .\n",
      "<https://plains2peaks.org/765b26e8-83b7-11e7-987f-ac87a3129ce6> <http://id.loc.gov/ontologies/bibframe/subject> _:ub1bL25C9 .\n",
      "_:ub1bL11C26 <http://id.loc.gov/ontologies/bibframe/generationDate> \"2017-08-18T01:49:24.602657\" .\n",
      "<https://plains2peaks.org/765b4eac-83b7-11e7-a4e6-ac87a3129ce6#Work> <http://id.loc.gov/ontologies/bibframe/summary> _:ub1bL36C16 .\n",
      "<https://plains2peaks.org/765b4eac-83b7-11e7-a4e6-ac87a3129ce6#Work> <http://id.loc.gov/ontologies/bibframe/partOf> <http://digitalcollections.uwyo.edu/luna/servlet/uwydbuwy~22~22> .\n",
      "<https://plains2peaks.org/765b26e8-83b7-11e7-987f-ac87a3129ce6> <http://www.w3.org/1999/02/22-rdf-syntax-ns#type> <http://id.loc.gov/ontologies/bibframe/Instance> .\n",
      "_:ub1bL23C16 <http://www.w3.org/1999/02/22-rdf-syntax-ns#type> <http://id.loc.gov/ontologies/bibframe/Topic> .\n",
      "_:ub1bL36C16 <http://www.w3.org/1999/02/22-rdf-syntax-ns#value> \"Photograph of Granite Bluff, below and east of tunnel, October 1900\" .\n",
      "_:ub1bL36C16 <http://www.w3.org/1999/02/22-rdf-syntax-ns#type> <http://id.loc.gov/ontologies/bibframe/Summary> .\n",
      "<https://plains2peaks.org/765b4eac-83b7-11e7-a4e6-ac87a3129ce6#Work> <http://id.loc.gov/ontologies/bibframe/partOf> <http://digitalcollections.uwyo.edu/luna/servlet/uwydbuwy~148~148> .\n",
      "<https://plains2peaks.org/765b26e8-83b7-11e7-987f-ac87a3129ce6> <http://id.loc.gov/ontologies/bibframe/title> _:ub1bL29C14 .\n",
      "<http://digitalcollections.uwyo.edu/luna/servlet/detail/uwydbuwy~22~22~555818~187236> <http://id.loc.gov/ontologies/bibframe/heldBy> <http://www.uwyo.edu/ahc/> .\n",
      "<https://plains2peaks.org/765b26e8-83b7-11e7-987f-ac87a3129ce6> <http://id.loc.gov/ontologies/bibframe/coverArt> _:ub1bL20C17 .\n",
      "\n",
      "\n"
     ]
    }
   ],
   "source": [
    "print(example1.serialize(format='nt').decode())"
   ]
  },
  {
   "cell_type": "code",
   "execution_count": 17,
   "metadata": {},
   "outputs": [
    {
     "name": "stdout",
     "output_type": "stream",
     "text": [
      "['<http://digitalcollections.uwyo.edu/luna/servlet/detail/uwydbuwy~22~22~555818~187236>', '<http://id.loc.gov/ontologies/bibframe/itemOf>', '<https://plains2peaks.org/765b26e8-83b7-11e7-987f-ac87a3129ce6>']\n"
     ]
    }
   ],
   "source": [
    "import hashlib, pickle\n",
    "for row in example1.serialize(format='nt').decode().splitlines()[0:10]:\n",
    "    fields = row.split()\n",
    "    print(fields[0:-1])"
   ]
  },
  {
   "cell_type": "code",
   "execution_count": null,
   "metadata": {},
   "outputs": [],
   "source": [
    "def add_key(tree, value):\n",
    "    if not isinstance(value, bytes):\n",
    "        value = value.encode()\n",
    "    key = hashlib.sha1(value).hexdigest()\n",
    "    if not key in tree:\n",
    "        tree.insert(key, value)\n",
    "    return key\n",
    "\n",
    "def add_collections(tree, \n",
    "                 subject_sha1, \n",
    "                 predicate_sha1,\n",
    "                 object_sha1):\n",
    "    p_o_key = \"{}:{}\".format(predicate_sha1, object_sha1)\n",
    "    s_p_key = \"{}:{}\".format(subject_sha1, predicate_sha1)\n",
    "    for key in [p_o_key, s_p_key]:\n",
    "        entities = []\n",
    "        if key in tree:\n",
    "            entities = pickle.loads(\n",
    "                tree.get(key))\n",
    "        \n",
    "    \n",
    "    \n",
    "    \n",
    "        \n",
    "def quick_cache(tree, fields):\n",
    "    subject_sha1 = add_key(tree, fields[0]) \n",
    "    predicate_sha1 = add_key(tree, fields[1])\n",
    "    object_sha1 = add_key(tree, fields[2])\n",
    "    subject_predicate = \"{}:{}\".format(subject_sha1,\n",
    "                                      predicate_sha1)\n",
    "    objects = []\n",
    "    if subject_predicate in tree:\n",
    "        objects = pickle.loads(tree.get(subject_predicate))\n",
    "    objects.append(object_sha1)\n",
    "    tree[subject_predicate] = pickle.dumps(list(set(objects)))\n",
    "    wildcard_predicate = \"*:{}\".format(predicate_sha1)\n",
    "    if wildcard_predicate in tree:\n",
    "        wildcard_subjects\n",
    "                               \n",
    "    \n",
    "    \n",
    "    "
   ]
  }
 ],
 "metadata": {
  "kernelspec": {
   "display_name": "Python 3",
   "language": "python",
   "name": "python3"
  },
  "language_info": {
   "codemirror_mode": {
    "name": "ipython",
    "version": 3
   },
   "file_extension": ".py",
   "mimetype": "text/x-python",
   "name": "python",
   "nbconvert_exporter": "python",
   "pygments_lexer": "ipython3",
   "version": "3.6.4"
  }
 },
 "nbformat": 4,
 "nbformat_minor": 2
}
