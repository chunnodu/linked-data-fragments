{
 "cells": [
  {
   "cell_type": "markdown",
   "metadata": {},
   "source": [
    "# Build Notebook\n",
    "Build Notebook for [Project 1](https://github.com/jermnelson/linked-data-fragments/projects/1)"
   ]
  },
  {
   "cell_type": "code",
   "execution_count": 8,
   "metadata": {},
   "outputs": [
    {
     "name": "stdout",
     "output_type": "stream",
     "text": [
      "Colorado College Number of Triples: 27,992\n"
     ]
    }
   ],
   "source": [
    "import datetime, rdflib, pdb, sys, hashlib\n",
    "from bplustree import BPlusTree, StrSerializer\n",
    "sys.path.append(\"D:/2018/linked-data-fragments/cache/\")\n",
    "import btree\n",
    "# Creating Colorado College Knowledge Graph\n",
    "CC = rdflib.Graph()\n",
    "def load_cc_scholarship():\n",
    "\tfor path in [\"D:/2018/tiger-catalog/KnowledgeGraph/colorado-college.ttl\",\n",
    "\t\t \"D:/2018/tiger-catalog/KnowledgeGraph/cc-people.ttl\",\n",
    "\t\t \"D:/2018/tiger-catalog/KnowledgeGraph/cc-2016-2017.ttl\",\n",
    "\t\t \"D:/2018/tiger-catalog/KnowledgeGraph/cc-2017-2018.ttl\",\n",
    "\t\t \"D:/2018/cc-scholarship-graph/data/cc-research-statements.ttl\",\n",
    "\t\t \"D:/2018/cc-scholarship-graph/data/cc-fast-subjects.ttl\",\n",
    "\t\t \"D:/2018/cc-scholarship-graph/data/creative-works.ttl\"]:\n",
    "\t\tCC.parse(path, format='turtle')\n",
    "load_cc_scholarship()\n",
    "print(\"Colorado College Number of Triples: {:,}\".format(len(CC)))"
   ]
  },
  {
   "cell_type": "markdown",
   "metadata": {},
   "source": [
    "### Demo of BTree Linked Data Fragments \n",
    "Take subject, predicate, object triples from RDF Graph and create sha1 hashes of all Blank Nodes and IRI subjects and store in BTree. "
   ]
  },
  {
   "cell_type": "code",
   "execution_count": 9,
   "metadata": {},
   "outputs": [],
   "source": [
    "CC_TREE = BPlusTree(\"D:/2018/linked-data-fragments/tmp/cc-tree.db\",\n",
    "                   serializer=StrSerializer(),\n",
    "                   order=10,\n",
    "                   key_size=124)"
   ]
  },
  {
   "cell_type": "code",
   "execution_count": 10,
   "metadata": {},
   "outputs": [
    {
     "name": "stdout",
     "output_type": "stream",
     "text": [
      "Starting loading Colorado College's 27,992 triples at 2018-05-21T22:08:03.160067 \n",
      "0....................................................................................................1,000....................................................................................................2,000....................................................................................................3,000....................................................................................................4,000....................................................................................................5,000....................................................................................................6,000....................................................................................................7,000....................................................................................................8,000....................................................................................................9,000....................................................................................................10,000....................................................................................................11,000....................................................................................................12,000....................................................................................................13,000....................................................................................................14,000....................................................................................................15,000....................................................................................................16,000....................................................................................................17,000....................................................................................................18,000....................................................................................................19,000....................................................................................................20,000....................................................................................................21,000....................................................................................................22,000....................................................................................................23,000....................................................................................................24,000....................................................................................................25,000....................................................................................................26,000....................................................................................................27,000...................................................................................................Finished loading at 2018-05-21 22:18:58.331714, total time 10.916666666666666 min for 27,992 triples\n"
     ]
    }
   ],
   "source": [
    "start = datetime.datetime.utcnow()\n",
    "print(\"Starting loading Colorado College's {:,} triples at {} \".format(\n",
    "    len(CC),\n",
    "    start.isoformat()))\n",
    "counter = 0\n",
    "for subj, pred, obj in CC:\n",
    "    subj_sha1 = hashlib.sha1(str(subj).encode()).hexdigest()\n",
    "    pred_sha1 = hashlib.sha1(str(pred).encode()).hexdigest()\n",
    "    obj_sha1 = hashlib.sha1(str(obj).encode()).hexdigest()\n",
    "    # Add/Create Subject, Predicate, and Object\n",
    "    if not subj_sha1 in CC_TREE:\n",
    "        CC_TREE.insert(subj_sha1, str(subj).encode())\n",
    "    if not pred_sha1 in CC_TREE:\n",
    "        CC_TREE.insert(pred_sha1, str(pred).encode())\n",
    "    if not obj_sha1 in CC_TREE:\n",
    "        CC_TREE.insert(obj_sha1, str(obj).encode())\n",
    "    btree.add_patterns(CC_TREE, subj_sha1, pred_sha1, obj_sha1)\n",
    "    if not counter%10 and counter > 0:\n",
    "        print(\".\", end=\"\")\n",
    "        CC_TREE.checkpoint()\n",
    "    if not counter%1000:\n",
    "        print(\"{:,}\".format(counter), end=\"\")\n",
    "    counter += 1\n",
    "        \n",
    "end = datetime.datetime.utcnow()\n",
    "CC_TREE.close()\n",
    "print(\"Finished loading at {}, total time {:,} min for {:,} triples\".format(\n",
    "    end,\n",
    "    (end-start).seconds / 60.0,\n",
    "    len(CC)))"
   ]
  },
  {
   "cell_type": "code",
   "execution_count": 5,
   "metadata": {},
   "outputs": [
    {
     "data": {
      "text/plain": [
       "3.75"
      ]
     },
     "execution_count": 5,
     "metadata": {},
     "output_type": "execute_result"
    }
   ],
   "source": [
    "(end-start).seconds / 60.0\n"
   ]
  },
  {
   "cell_type": "code",
   "execution_count": null,
   "metadata": {},
   "outputs": [],
   "source": []
  }
 ],
 "metadata": {
  "kernelspec": {
   "display_name": "Python 3",
   "language": "python",
   "name": "python3"
  },
  "language_info": {
   "codemirror_mode": {
    "name": "ipython",
    "version": 3
   },
   "file_extension": ".py",
   "mimetype": "text/x-python",
   "name": "python",
   "nbconvert_exporter": "python",
   "pygments_lexer": "ipython3",
   "version": "3.6.4"
  }
 },
 "nbformat": 4,
 "nbformat_minor": 2
}
